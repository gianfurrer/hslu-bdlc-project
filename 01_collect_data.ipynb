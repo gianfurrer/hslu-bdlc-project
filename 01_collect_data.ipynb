{
 "cells": [
  {
   "cell_type": "code",
   "execution_count": 2,
   "id": "86b2ea2e-4e0e-4339-8be8-25edea3a7e5a",
   "metadata": {
    "scrolled": true
   },
   "outputs": [],
   "source": [
    "from pyspark.sql import SparkSession\n",
    "\n",
    "spark = SparkSession \\\n",
    "    .builder \\\n",
    "    .appName(\"F1\") \\\n",
    "    .getOrCreate()"
   ]
  },
  {
   "cell_type": "markdown",
   "id": "020d5ade-6477-420a-8c71-cdbb5cac650e",
   "metadata": {},
   "source": [
    "# Download Dataset\n",
    "\n",
    "1. Create the required directories:"
   ]
  },
  {
   "cell_type": "code",
   "execution_count": 3,
   "id": "31bf2ac1-0600-4481-b6ee-bbfe3e4ebf80",
   "metadata": {},
   "outputs": [
    {
     "name": "stdout",
     "output_type": "stream",
     "text": [
      "Deleted /f1/raw\n"
     ]
    }
   ],
   "source": [
    "!hdfs dfs -rm -r -f /f1/raw\n",
    "!hdfs dfs -mkdir -p /f1/raw\n",
    "!mkdir -p /data/dataset_cluster/f1"
   ]
  },
  {
   "cell_type": "markdown",
   "id": "6ab4f9f0-c124-45d3-80b6-5cd994eb0761",
   "metadata": {},
   "source": [
    "2. Download the CSVs as ZIP: https://www.kaggle.com/datasets/rohanrao/formula-1-world-championship-1950-2020?resource=download\n",
    "3. Move the ZIP to `/data/dataset_cluster/f1/f1.zip`\n",
    "4. Unzip the file and move the contents to HDFS"
   ]
  },
  {
   "cell_type": "code",
   "execution_count": 4,
   "id": "5b2c8636-2863-4251-94f9-b5fac7262e5c",
   "metadata": {},
   "outputs": [
    {
     "name": "stdout",
     "output_type": "stream",
     "text": [
      "Archive:  f1.zip\n",
      "  inflating: circuits.csv            \n",
      "  inflating: constructor_results.csv  \n",
      "  inflating: constructor_standings.csv  \n",
      "  inflating: constructors.csv        \n",
      "  inflating: driver_standings.csv    \n",
      "  inflating: drivers.csv             \n",
      "  inflating: lap_times.csv           \n",
      "  inflating: pit_stops.csv           \n",
      "  inflating: qualifying.csv          \n",
      "  inflating: races.csv               \n",
      "  inflating: results.csv             \n",
      "  inflating: seasons.csv             \n",
      "  inflating: sprint_results.csv      \n",
      "  inflating: status.csv              \n"
     ]
    }
   ],
   "source": [
    "!(cd /data/dataset_cluster/f1; unzip -o f1.zip)"
   ]
  },
  {
   "cell_type": "code",
   "execution_count": 5,
   "id": "ec1bfbb7-97b0-43ad-bbc7-8120182560c5",
   "metadata": {},
   "outputs": [],
   "source": [
    "!hdfs dfs -Ddfs.replication=1 -put -f /data/dataset_cluster/f1/*.csv /f1/raw/"
   ]
  },
  {
   "cell_type": "code",
   "execution_count": 6,
   "id": "2515a364-aac7-4bf6-a7d1-700f4a49c8c8",
   "metadata": {},
   "outputs": [
    {
     "name": "stdout",
     "output_type": "stream",
     "text": [
      "Found 14 items\n",
      "-rw-r--r--   1 cluster supergroup      10104 2025-04-27 20:55 /f1/raw/circuits.csv\n",
      "-rw-r--r--   1 cluster supergroup     219365 2025-04-27 20:55 /f1/raw/constructor_results.csv\n",
      "-rw-r--r--   1 cluster supergroup     317206 2025-04-27 20:55 /f1/raw/constructor_standings.csv\n",
      "-rw-r--r--   1 cluster supergroup      17478 2025-04-27 20:55 /f1/raw/constructors.csv\n",
      "-rw-r--r--   1 cluster supergroup     883771 2025-04-27 20:55 /f1/raw/driver_standings.csv\n",
      "-rw-r--r--   1 cluster supergroup      94367 2025-04-27 20:55 /f1/raw/drivers.csv\n",
      "-rw-r--r--   1 cluster supergroup   17622395 2025-04-27 20:55 /f1/raw/lap_times.csv\n",
      "-rw-r--r--   1 cluster supergroup     443719 2025-04-27 20:55 /f1/raw/pit_stops.csv\n",
      "-rw-r--r--   1 cluster supergroup     465231 2025-04-27 20:55 /f1/raw/qualifying.csv\n",
      "-rw-r--r--   1 cluster supergroup     164344 2025-04-27 20:55 /f1/raw/races.csv\n",
      "-rw-r--r--   1 cluster supergroup    1721961 2025-04-27 20:55 /f1/raw/results.csv\n",
      "-rw-r--r--   1 cluster supergroup       4594 2025-04-27 20:55 /f1/raw/seasons.csv\n",
      "-rw-r--r--   1 cluster supergroup      24732 2025-04-27 20:55 /f1/raw/sprint_results.csv\n",
      "-rw-r--r--   1 cluster supergroup       2136 2025-04-27 20:55 /f1/raw/status.csv\n"
     ]
    }
   ],
   "source": [
    "!hdfs dfs -ls /f1/raw"
   ]
  },
  {
   "cell_type": "markdown",
   "id": "f8b793f8-8d02-4c02-8480-91c56fa5626c",
   "metadata": {},
   "source": [
    "# Convert CSVs to Parquest"
   ]
  },
  {
   "cell_type": "code",
   "execution_count": 7,
   "id": "14c6252c-4f97-48c4-9e12-3ec4723495cf",
   "metadata": {},
   "outputs": [],
   "source": [
    "!hdfs dfs -mkdir -p /f1/data"
   ]
  },
  {
   "cell_type": "code",
   "execution_count": 8,
   "id": "20ec83f3-1919-47ee-bdf5-27194175d15a",
   "metadata": {},
   "outputs": [
    {
     "name": "stderr",
     "output_type": "stream",
     "text": [
      "                                                                                "
     ]
    }
   ],
   "source": [
    "hadoop = spark._jvm.org.apache.hadoop\n",
    "fs = hadoop.fs.FileSystem\n",
    "conf = hadoop.conf.Configuration()\n",
    "path = hadoop.fs.Path('/f1/raw')\n",
    "for f in fs.get(conf).listStatus(path):\n",
    "    if not f.getLocalName().endswith(\".csv\"): continue\n",
    "    parquet_filename = f.getLocalName().replace(\".csv\", \".parquet\")\n",
    "    df = spark.read.csv(f\"/f1/raw/{f.getLocalName()}\", header=True, inferSchema=True)\n",
    "    df.write.mode('overwrite').parquet(f\"/f1/data/{parquet_filename}\")"
   ]
  },
  {
   "cell_type": "code",
   "execution_count": 9,
   "id": "03ffb277-45a2-4395-98dc-466092137924",
   "metadata": {},
   "outputs": [
    {
     "name": "stdout",
     "output_type": "stream",
     "text": [
      "Found 14 items\n",
      "-rw-r--r--   1 cluster supergroup      10104 2025-04-27 20:55 /f1/raw/circuits.csv\n",
      "-rw-r--r--   1 cluster supergroup     219365 2025-04-27 20:55 /f1/raw/constructor_results.csv\n",
      "-rw-r--r--   1 cluster supergroup     317206 2025-04-27 20:55 /f1/raw/constructor_standings.csv\n",
      "-rw-r--r--   1 cluster supergroup      17478 2025-04-27 20:55 /f1/raw/constructors.csv\n",
      "-rw-r--r--   1 cluster supergroup     883771 2025-04-27 20:55 /f1/raw/driver_standings.csv\n",
      "-rw-r--r--   1 cluster supergroup      94367 2025-04-27 20:55 /f1/raw/drivers.csv\n",
      "-rw-r--r--   1 cluster supergroup   17622395 2025-04-27 20:55 /f1/raw/lap_times.csv\n",
      "-rw-r--r--   1 cluster supergroup     443719 2025-04-27 20:55 /f1/raw/pit_stops.csv\n",
      "-rw-r--r--   1 cluster supergroup     465231 2025-04-27 20:55 /f1/raw/qualifying.csv\n",
      "-rw-r--r--   1 cluster supergroup     164344 2025-04-27 20:55 /f1/raw/races.csv\n",
      "-rw-r--r--   1 cluster supergroup    1721961 2025-04-27 20:55 /f1/raw/results.csv\n",
      "-rw-r--r--   1 cluster supergroup       4594 2025-04-27 20:55 /f1/raw/seasons.csv\n",
      "-rw-r--r--   1 cluster supergroup      24732 2025-04-27 20:55 /f1/raw/sprint_results.csv\n",
      "-rw-r--r--   1 cluster supergroup       2136 2025-04-27 20:55 /f1/raw/status.csv\n"
     ]
    }
   ],
   "source": [
    "!hdfs dfs -ls /f1/raw"
   ]
  },
  {
   "cell_type": "code",
   "execution_count": 10,
   "id": "8828e268-185f-43e5-ba65-d50bac447139",
   "metadata": {},
   "outputs": [
    {
     "name": "stdout",
     "output_type": "stream",
     "text": [
      "Found 2 items\n",
      "-rw-r--r--   2 cluster supergroup          0 2025-04-27 20:55 /f1/data/circuits.parquet/_SUCCESS\n",
      "-rw-r--r--   2 cluster supergroup       9248 2025-04-27 20:55 /f1/data/circuits.parquet/part-00000-8b924ea1-b33f-4184-8526-163dfdc799eb-c000.snappy.parquet\n",
      "Found 2 items\n",
      "-rw-r--r--   2 cluster supergroup          0 2025-04-27 17:08 /f1/data/cleaned_circuits.parquet/_SUCCESS\n",
      "-rw-r--r--   2 cluster supergroup       6904 2025-04-27 17:08 /f1/data/cleaned_circuits.parquet/part-00000-99e32ab9-9e0f-42b2-a6d3-42d4ef687d18-c000.snappy.parquet\n",
      "Found 2 items\n",
      "-rw-r--r--   2 cluster supergroup          0 2025-04-27 17:30 /f1/data/cleaned_constructor_results.parquet/_SUCCESS\n",
      "-rw-r--r--   2 cluster supergroup      80657 2025-04-27 17:30 /f1/data/cleaned_constructor_results.parquet/part-00000-23998559-62d1-4e57-baa4-d4d192fefdfc-c000.snappy.parquet\n",
      "Found 2 items\n",
      "-rw-r--r--   2 cluster supergroup          0 2025-04-27 17:33 /f1/data/cleaned_constructor_standings.parquet/_SUCCESS\n",
      "-rw-r--r--   2 cluster supergroup     110395 2025-04-27 17:33 /f1/data/cleaned_constructor_standings.parquet/part-00000-a866fd49-8cdf-4567-95b0-47dec9a9f110-c000.snappy.parquet\n",
      "Found 2 items\n",
      "-rw-r--r--   2 cluster supergroup          0 2025-04-27 17:34 /f1/data/cleaned_constructors.parquet/_SUCCESS\n",
      "-rw-r--r--   2 cluster supergroup       6219 2025-04-27 17:34 /f1/data/cleaned_constructors.parquet/part-00000-f948a06c-99a2-4ae0-b908-afce6a7e0ea7-c000.snappy.parquet\n",
      "Found 2 items\n",
      "-rw-r--r--   2 cluster supergroup          0 2025-04-27 18:19 /f1/data/cleaned_driver_standings.parquet/_SUCCESS\n",
      "-rw-r--r--   2 cluster supergroup     270246 2025-04-27 18:19 /f1/data/cleaned_driver_standings.parquet/part-00000-93fd18b1-9970-4162-8a6c-60fe5d7ac6c0-c000.snappy.parquet\n",
      "Found 2 items\n",
      "-rw-r--r--   2 cluster supergroup          0 2025-04-27 18:21 /f1/data/cleaned_drivers.parquet/_SUCCESS\n",
      "-rw-r--r--   2 cluster supergroup      29810 2025-04-27 18:21 /f1/data/cleaned_drivers.parquet/part-00000-58be0080-1cfd-4b05-9788-b7fcd95726fb-c000.snappy.parquet\n",
      "Found 5 items\n",
      "-rw-r--r--   2 cluster supergroup          0 2025-04-27 18:22 /f1/data/cleaned_lap_times.parquet/_SUCCESS\n",
      "-rw-r--r--   2 cluster supergroup    1203387 2025-04-27 18:22 /f1/data/cleaned_lap_times.parquet/part-00000-6e9b8510-6de8-4272-8a79-b34f3e91c047-c000.snappy.parquet\n",
      "-rw-r--r--   2 cluster supergroup    1167241 2025-04-27 18:22 /f1/data/cleaned_lap_times.parquet/part-00001-6e9b8510-6de8-4272-8a79-b34f3e91c047-c000.snappy.parquet\n",
      "-rw-r--r--   2 cluster supergroup    1154239 2025-04-27 18:22 /f1/data/cleaned_lap_times.parquet/part-00002-6e9b8510-6de8-4272-8a79-b34f3e91c047-c000.snappy.parquet\n",
      "-rw-r--r--   2 cluster supergroup    1322176 2025-04-27 18:22 /f1/data/cleaned_lap_times.parquet/part-00003-6e9b8510-6de8-4272-8a79-b34f3e91c047-c000.snappy.parquet\n",
      "Found 2 items\n",
      "-rw-r--r--   2 cluster supergroup          0 2025-04-27 18:34 /f1/data/cleaned_pit_stops.parquet/_SUCCESS\n",
      "-rw-r--r--   2 cluster supergroup     206924 2025-04-27 18:34 /f1/data/cleaned_pit_stops.parquet/part-00000-74f8251b-a65c-4601-946e-bc5c9f715576-c000.snappy.parquet\n",
      "Found 2 items\n",
      "-rw-r--r--   2 cluster supergroup          0 2025-04-27 18:42 /f1/data/cleaned_qualifying.parquet/_SUCCESS\n",
      "-rw-r--r--   2 cluster supergroup     183690 2025-04-27 18:42 /f1/data/cleaned_qualifying.parquet/part-00000-b5e3d318-b335-4cd3-acee-65d5aabc6371-c000.snappy.parquet\n",
      "Found 2 items\n",
      "-rw-r--r--   2 cluster supergroup          0 2025-04-27 20:43 /f1/data/cleaned_races.parquet/_SUCCESS\n",
      "-rw-r--r--   2 cluster supergroup      21379 2025-04-27 20:43 /f1/data/cleaned_races.parquet/part-00000-3204779d-8893-48bf-8f77-c91027f3f82d-c000.snappy.parquet\n",
      "Found 2 items\n",
      "-rw-r--r--   2 cluster supergroup          0 2025-04-27 20:47 /f1/data/cleaned_results.parquet/_SUCCESS\n",
      "-rw-r--r--   2 cluster supergroup     539833 2025-04-27 20:47 /f1/data/cleaned_results.parquet/part-00000-98b6c9c7-8b42-45df-a524-3bdbbb953f61-c000.snappy.parquet\n",
      "Found 2 items\n",
      "-rw-r--r--   2 cluster supergroup          0 2025-04-27 20:48 /f1/data/cleaned_seasons.parquet/_SUCCESS\n",
      "-rw-r--r--   2 cluster supergroup        771 2025-04-27 20:48 /f1/data/cleaned_seasons.parquet/part-00000-469e8dc7-f52b-405e-a4d9-71aa726ec1d5-c000.snappy.parquet\n",
      "Found 2 items\n",
      "-rw-r--r--   2 cluster supergroup          0 2025-04-27 20:54 /f1/data/cleaned_sprint_results.parquet/_SUCCESS\n",
      "-rw-r--r--   2 cluster supergroup      13819 2025-04-27 20:54 /f1/data/cleaned_sprint_results.parquet/part-00000-8d4f61f0-fa05-4f2e-94bc-cd765b3e9384-c000.snappy.parquet\n",
      "Found 2 items\n",
      "-rw-r--r--   2 cluster supergroup          0 2025-04-27 20:55 /f1/data/constructor_results.parquet/_SUCCESS\n",
      "-rw-r--r--   2 cluster supergroup      80960 2025-04-27 20:55 /f1/data/constructor_results.parquet/part-00000-b97b3746-1060-462a-8cde-fea56e61e4e6-c000.snappy.parquet\n",
      "Found 2 items\n",
      "-rw-r--r--   2 cluster supergroup          0 2025-04-27 20:55 /f1/data/constructor_standings.parquet/_SUCCESS\n",
      "-rw-r--r--   2 cluster supergroup     110395 2025-04-27 20:55 /f1/data/constructor_standings.parquet/part-00000-7e75c73f-8932-4a05-bff1-e89b7f044133-c000.snappy.parquet\n",
      "Found 2 items\n",
      "-rw-r--r--   2 cluster supergroup          0 2025-04-27 20:55 /f1/data/constructors.parquet/_SUCCESS\n",
      "-rw-r--r--   2 cluster supergroup       9385 2025-04-27 20:55 /f1/data/constructors.parquet/part-00000-8237b370-d0cc-41d5-adde-d46172b1b9bf-c000.snappy.parquet\n",
      "Found 2 items\n",
      "-rw-r--r--   2 cluster supergroup          0 2025-04-27 20:55 /f1/data/driver_standings.parquet/_SUCCESS\n",
      "-rw-r--r--   2 cluster supergroup     270246 2025-04-27 20:55 /f1/data/driver_standings.parquet/part-00000-438e05ee-53ff-40fa-835e-35d038bdd5a8-c000.snappy.parquet\n",
      "Found 2 items\n",
      "-rw-r--r--   2 cluster supergroup          0 2025-04-27 20:55 /f1/data/drivers.parquet/_SUCCESS\n",
      "-rw-r--r--   2 cluster supergroup      42954 2025-04-27 20:55 /f1/data/drivers.parquet/part-00000-351b10dc-54a3-4a28-8441-4f55f63cdab7-c000.snappy.parquet\n",
      "Found 5 items\n",
      "-rw-r--r--   2 cluster supergroup          0 2025-04-27 20:55 /f1/data/lap_times.parquet/_SUCCESS\n",
      "-rw-r--r--   2 cluster supergroup    1471762 2025-04-27 20:55 /f1/data/lap_times.parquet/part-00000-3f664f85-6300-4ed9-913f-f2e1918748ee-c000.snappy.parquet\n",
      "-rw-r--r--   2 cluster supergroup    1490751 2025-04-27 20:55 /f1/data/lap_times.parquet/part-00001-3f664f85-6300-4ed9-913f-f2e1918748ee-c000.snappy.parquet\n",
      "-rw-r--r--   2 cluster supergroup    1449800 2025-04-27 20:55 /f1/data/lap_times.parquet/part-00002-3f664f85-6300-4ed9-913f-f2e1918748ee-c000.snappy.parquet\n",
      "-rw-r--r--   2 cluster supergroup     378096 2025-04-27 20:55 /f1/data/lap_times.parquet/part-00003-3f664f85-6300-4ed9-913f-f2e1918748ee-c000.snappy.parquet\n",
      "Found 2 items\n",
      "-rw-r--r--   2 cluster supergroup          0 2025-04-27 20:55 /f1/data/pit_stops.parquet/_SUCCESS\n",
      "-rw-r--r--   2 cluster supergroup     206925 2025-04-27 20:55 /f1/data/pit_stops.parquet/part-00000-c47c6594-73e0-4b69-9a39-97b68d814da8-c000.snappy.parquet\n",
      "Found 2 items\n",
      "-rw-r--r--   2 cluster supergroup          0 2025-04-27 20:55 /f1/data/qualifying.parquet/_SUCCESS\n",
      "-rw-r--r--   2 cluster supergroup     192097 2025-04-27 20:55 /f1/data/qualifying.parquet/part-00000-e5e3b8b7-4fe5-47f3-b104-2825a69d5b7c-c000.snappy.parquet\n",
      "Found 2 items\n",
      "-rw-r--r--   2 cluster supergroup          0 2025-04-27 20:55 /f1/data/races.parquet/_SUCCESS\n",
      "-rw-r--r--   2 cluster supergroup      28754 2025-04-27 20:55 /f1/data/races.parquet/part-00000-9d6ea4db-0cd5-448c-a042-7adfca409448-c000.snappy.parquet\n",
      "Found 2 items\n",
      "-rw-r--r--   2 cluster supergroup          0 2025-04-27 20:55 /f1/data/results.parquet/_SUCCESS\n",
      "-rw-r--r--   2 cluster supergroup     539833 2025-04-27 20:55 /f1/data/results.parquet/part-00000-89ca1a1b-73a7-4547-8805-569f2378e475-c000.snappy.parquet\n",
      "Found 2 items\n",
      "-rw-r--r--   2 cluster supergroup          0 2025-04-27 20:55 /f1/data/seasons.parquet/_SUCCESS\n",
      "-rw-r--r--   2 cluster supergroup       1722 2025-04-27 20:55 /f1/data/seasons.parquet/part-00000-9510ff6b-ae98-49c6-81d8-615e83b04321-c000.snappy.parquet\n",
      "Found 2 items\n",
      "-rw-r--r--   2 cluster supergroup          0 2025-04-27 20:55 /f1/data/sprint_results.parquet/_SUCCESS\n",
      "-rw-r--r--   2 cluster supergroup      15358 2025-04-27 20:55 /f1/data/sprint_results.parquet/part-00000-1f492e7b-c65e-46f1-bf6b-fb7f66ed9fad-c000.snappy.parquet\n",
      "Found 2 items\n",
      "-rw-r--r--   2 cluster supergroup          0 2025-04-27 20:55 /f1/data/status.parquet/_SUCCESS\n",
      "-rw-r--r--   2 cluster supergroup       2561 2025-04-27 20:55 /f1/data/status.parquet/part-00000-4bd22e1f-d501-4f62-8b2f-21993469f2a6-c000.snappy.parquet\n"
     ]
    }
   ],
   "source": [
    "!hdfs dfs -ls /f1/data/**"
   ]
  },
  {
   "cell_type": "code",
   "execution_count": null,
   "id": "7d283ab5-731a-4ef6-8e73-e193f85f3000",
   "metadata": {},
   "outputs": [],
   "source": []
  }
 ],
 "metadata": {
  "kernelspec": {
   "display_name": "Python 3 (ipykernel)",
   "language": "python",
   "name": "python3"
  },
  "language_info": {
   "codemirror_mode": {
    "name": "ipython",
    "version": 3
   },
   "file_extension": ".py",
   "mimetype": "text/x-python",
   "name": "python",
   "nbconvert_exporter": "python",
   "pygments_lexer": "ipython3",
   "version": "3.11.2"
  }
 },
 "nbformat": 4,
 "nbformat_minor": 5
}
