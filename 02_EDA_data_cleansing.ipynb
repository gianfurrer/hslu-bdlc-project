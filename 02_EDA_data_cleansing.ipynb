{
 "cells": [
  {
   "cell_type": "code",
   "execution_count": 3,
   "id": "90ee8641-037c-4e41-86a8-11df2eb48793",
   "metadata": {},
   "outputs": [
    {
     "name": "stderr",
     "output_type": "stream",
     "text": [
      "25/05/04 12:42:59 WARN Utils: Your hostname, bdlc-004 resolves to a loopback address: 127.0.1.1; using 10.176.129.6 instead (on interface ens192)\n",
      "25/05/04 12:42:59 WARN Utils: Set SPARK_LOCAL_IP if you need to bind to another address\n",
      "Setting default log level to \"WARN\".\n",
      "To adjust logging level use sc.setLogLevel(newLevel). For SparkR, use setLogLevel(newLevel).\n",
      "25/05/04 12:43:00 WARN NativeCodeLoader: Unable to load native-hadoop library for your platform... using builtin-java classes where applicable\n",
      "25/05/04 12:43:00 WARN Utils: Service 'SparkUI' could not bind on port 4040. Attempting port 4041.\n"
     ]
    }
   ],
   "source": [
    "# EDA\n",
    "\n",
    "# TODO: table of contents?\n",
    "# Also document the single steps and conclusions drawn \n",
    "# ALSO REMOVE UNUSED COLS/TABLES\n",
    "# move the imports up\n",
    "from pyspark.sql import SparkSession\n",
    "\n",
    "spark = SparkSession \\\n",
    "    .builder \\\n",
    "    .appName(\"F1\") \\\n",
    "    .getOrCreate()"
   ]
  },
  {
   "cell_type": "code",
   "execution_count": 2,
   "id": "2e8fa7d3-44f2-434a-b438-85437fe2155a",
   "metadata": {},
   "outputs": [
    {
     "name": "stdout",
     "output_type": "stream",
     "text": [
      "Found 2 items\n",
      "-rw-r--r--   2 cluster supergroup          0 2025-04-27 20:55 /f1/data/circuits.parquet/_SUCCESS\n",
      "-rw-r--r--   2 cluster supergroup       9248 2025-04-27 20:55 /f1/data/circuits.parquet/part-00000-8b924ea1-b33f-4184-8526-163dfdc799eb-c000.snappy.parquet\n",
      "Found 2 items\n",
      "-rw-r--r--   2 cluster supergroup          0 2025-04-27 17:08 /f1/data/cleaned_circuits.parquet/_SUCCESS\n",
      "-rw-r--r--   2 cluster supergroup       6904 2025-04-27 17:08 /f1/data/cleaned_circuits.parquet/part-00000-99e32ab9-9e0f-42b2-a6d3-42d4ef687d18-c000.snappy.parquet\n",
      "Found 2 items\n",
      "-rw-r--r--   2 cluster supergroup          0 2025-04-27 17:30 /f1/data/cleaned_constructor_results.parquet/_SUCCESS\n",
      "-rw-r--r--   2 cluster supergroup      80657 2025-04-27 17:30 /f1/data/cleaned_constructor_results.parquet/part-00000-23998559-62d1-4e57-baa4-d4d192fefdfc-c000.snappy.parquet\n",
      "Found 2 items\n",
      "-rw-r--r--   2 cluster supergroup          0 2025-04-27 17:33 /f1/data/cleaned_constructor_standings.parquet/_SUCCESS\n",
      "-rw-r--r--   2 cluster supergroup     110395 2025-04-27 17:33 /f1/data/cleaned_constructor_standings.parquet/part-00000-a866fd49-8cdf-4567-95b0-47dec9a9f110-c000.snappy.parquet\n",
      "Found 2 items\n",
      "-rw-r--r--   2 cluster supergroup          0 2025-04-27 17:34 /f1/data/cleaned_constructors.parquet/_SUCCESS\n",
      "-rw-r--r--   2 cluster supergroup       6219 2025-04-27 17:34 /f1/data/cleaned_constructors.parquet/part-00000-f948a06c-99a2-4ae0-b908-afce6a7e0ea7-c000.snappy.parquet\n",
      "Found 2 items\n",
      "-rw-r--r--   2 cluster supergroup          0 2025-04-27 18:19 /f1/data/cleaned_driver_standings.parquet/_SUCCESS\n",
      "-rw-r--r--   2 cluster supergroup     270246 2025-04-27 18:19 /f1/data/cleaned_driver_standings.parquet/part-00000-93fd18b1-9970-4162-8a6c-60fe5d7ac6c0-c000.snappy.parquet\n",
      "Found 2 items\n",
      "-rw-r--r--   2 cluster supergroup          0 2025-04-27 18:21 /f1/data/cleaned_drivers.parquet/_SUCCESS\n",
      "-rw-r--r--   2 cluster supergroup      29810 2025-04-27 18:21 /f1/data/cleaned_drivers.parquet/part-00000-58be0080-1cfd-4b05-9788-b7fcd95726fb-c000.snappy.parquet\n",
      "Found 5 items\n",
      "-rw-r--r--   2 cluster supergroup          0 2025-04-27 18:22 /f1/data/cleaned_lap_times.parquet/_SUCCESS\n",
      "-rw-r--r--   2 cluster supergroup    1203387 2025-04-27 18:22 /f1/data/cleaned_lap_times.parquet/part-00000-6e9b8510-6de8-4272-8a79-b34f3e91c047-c000.snappy.parquet\n",
      "-rw-r--r--   2 cluster supergroup    1167241 2025-04-27 18:22 /f1/data/cleaned_lap_times.parquet/part-00001-6e9b8510-6de8-4272-8a79-b34f3e91c047-c000.snappy.parquet\n",
      "-rw-r--r--   2 cluster supergroup    1154239 2025-04-27 18:22 /f1/data/cleaned_lap_times.parquet/part-00002-6e9b8510-6de8-4272-8a79-b34f3e91c047-c000.snappy.parquet\n",
      "-rw-r--r--   2 cluster supergroup    1322176 2025-04-27 18:22 /f1/data/cleaned_lap_times.parquet/part-00003-6e9b8510-6de8-4272-8a79-b34f3e91c047-c000.snappy.parquet\n",
      "Found 2 items\n",
      "-rw-r--r--   2 cluster supergroup          0 2025-04-27 18:34 /f1/data/cleaned_pit_stops.parquet/_SUCCESS\n",
      "-rw-r--r--   2 cluster supergroup     206924 2025-04-27 18:34 /f1/data/cleaned_pit_stops.parquet/part-00000-74f8251b-a65c-4601-946e-bc5c9f715576-c000.snappy.parquet\n",
      "Found 2 items\n",
      "-rw-r--r--   2 cluster supergroup          0 2025-04-27 18:42 /f1/data/cleaned_qualifying.parquet/_SUCCESS\n",
      "-rw-r--r--   2 cluster supergroup     183690 2025-04-27 18:42 /f1/data/cleaned_qualifying.parquet/part-00000-b5e3d318-b335-4cd3-acee-65d5aabc6371-c000.snappy.parquet\n",
      "Found 2 items\n",
      "-rw-r--r--   2 cluster supergroup          0 2025-04-27 20:43 /f1/data/cleaned_races.parquet/_SUCCESS\n",
      "-rw-r--r--   2 cluster supergroup      21379 2025-04-27 20:43 /f1/data/cleaned_races.parquet/part-00000-3204779d-8893-48bf-8f77-c91027f3f82d-c000.snappy.parquet\n",
      "Found 2 items\n",
      "-rw-r--r--   2 cluster supergroup          0 2025-04-27 20:47 /f1/data/cleaned_results.parquet/_SUCCESS\n",
      "-rw-r--r--   2 cluster supergroup     539833 2025-04-27 20:47 /f1/data/cleaned_results.parquet/part-00000-98b6c9c7-8b42-45df-a524-3bdbbb953f61-c000.snappy.parquet\n",
      "Found 2 items\n",
      "-rw-r--r--   2 cluster supergroup          0 2025-04-27 20:48 /f1/data/cleaned_seasons.parquet/_SUCCESS\n",
      "-rw-r--r--   2 cluster supergroup        771 2025-04-27 20:48 /f1/data/cleaned_seasons.parquet/part-00000-469e8dc7-f52b-405e-a4d9-71aa726ec1d5-c000.snappy.parquet\n",
      "Found 2 items\n",
      "-rw-r--r--   2 cluster supergroup          0 2025-04-27 20:54 /f1/data/cleaned_sprint_results.parquet/_SUCCESS\n",
      "-rw-r--r--   2 cluster supergroup      13819 2025-04-27 20:54 /f1/data/cleaned_sprint_results.parquet/part-00000-8d4f61f0-fa05-4f2e-94bc-cd765b3e9384-c000.snappy.parquet\n",
      "Found 2 items\n",
      "-rw-r--r--   2 cluster supergroup          0 2025-04-27 20:55 /f1/data/constructor_results.parquet/_SUCCESS\n",
      "-rw-r--r--   2 cluster supergroup      80960 2025-04-27 20:55 /f1/data/constructor_results.parquet/part-00000-b97b3746-1060-462a-8cde-fea56e61e4e6-c000.snappy.parquet\n",
      "Found 2 items\n",
      "-rw-r--r--   2 cluster supergroup          0 2025-04-27 20:55 /f1/data/constructor_standings.parquet/_SUCCESS\n",
      "-rw-r--r--   2 cluster supergroup     110395 2025-04-27 20:55 /f1/data/constructor_standings.parquet/part-00000-7e75c73f-8932-4a05-bff1-e89b7f044133-c000.snappy.parquet\n",
      "Found 2 items\n",
      "-rw-r--r--   2 cluster supergroup          0 2025-04-27 20:55 /f1/data/constructors.parquet/_SUCCESS\n",
      "-rw-r--r--   2 cluster supergroup       9385 2025-04-27 20:55 /f1/data/constructors.parquet/part-00000-8237b370-d0cc-41d5-adde-d46172b1b9bf-c000.snappy.parquet\n",
      "Found 2 items\n",
      "-rw-r--r--   2 cluster supergroup          0 2025-04-27 20:55 /f1/data/driver_standings.parquet/_SUCCESS\n",
      "-rw-r--r--   2 cluster supergroup     270246 2025-04-27 20:55 /f1/data/driver_standings.parquet/part-00000-438e05ee-53ff-40fa-835e-35d038bdd5a8-c000.snappy.parquet\n",
      "Found 2 items\n",
      "-rw-r--r--   2 cluster supergroup          0 2025-04-27 20:55 /f1/data/drivers.parquet/_SUCCESS\n",
      "-rw-r--r--   2 cluster supergroup      42954 2025-04-27 20:55 /f1/data/drivers.parquet/part-00000-351b10dc-54a3-4a28-8441-4f55f63cdab7-c000.snappy.parquet\n",
      "Found 5 items\n",
      "-rw-r--r--   2 cluster supergroup          0 2025-04-27 20:55 /f1/data/lap_times.parquet/_SUCCESS\n",
      "-rw-r--r--   2 cluster supergroup    1471762 2025-04-27 20:55 /f1/data/lap_times.parquet/part-00000-3f664f85-6300-4ed9-913f-f2e1918748ee-c000.snappy.parquet\n",
      "-rw-r--r--   2 cluster supergroup    1490751 2025-04-27 20:55 /f1/data/lap_times.parquet/part-00001-3f664f85-6300-4ed9-913f-f2e1918748ee-c000.snappy.parquet\n",
      "-rw-r--r--   2 cluster supergroup    1449800 2025-04-27 20:55 /f1/data/lap_times.parquet/part-00002-3f664f85-6300-4ed9-913f-f2e1918748ee-c000.snappy.parquet\n",
      "-rw-r--r--   2 cluster supergroup     378096 2025-04-27 20:55 /f1/data/lap_times.parquet/part-00003-3f664f85-6300-4ed9-913f-f2e1918748ee-c000.snappy.parquet\n",
      "Found 2 items\n",
      "-rw-r--r--   2 cluster supergroup          0 2025-04-27 20:55 /f1/data/pit_stops.parquet/_SUCCESS\n",
      "-rw-r--r--   2 cluster supergroup     206925 2025-04-27 20:55 /f1/data/pit_stops.parquet/part-00000-c47c6594-73e0-4b69-9a39-97b68d814da8-c000.snappy.parquet\n",
      "Found 2 items\n",
      "-rw-r--r--   2 cluster supergroup          0 2025-04-27 20:55 /f1/data/qualifying.parquet/_SUCCESS\n",
      "-rw-r--r--   2 cluster supergroup     192097 2025-04-27 20:55 /f1/data/qualifying.parquet/part-00000-e5e3b8b7-4fe5-47f3-b104-2825a69d5b7c-c000.snappy.parquet\n",
      "Found 2 items\n",
      "-rw-r--r--   2 cluster supergroup          0 2025-04-27 20:55 /f1/data/races.parquet/_SUCCESS\n",
      "-rw-r--r--   2 cluster supergroup      28754 2025-04-27 20:55 /f1/data/races.parquet/part-00000-9d6ea4db-0cd5-448c-a042-7adfca409448-c000.snappy.parquet\n",
      "Found 2 items\n",
      "-rw-r--r--   2 cluster supergroup          0 2025-04-27 20:55 /f1/data/results.parquet/_SUCCESS\n",
      "-rw-r--r--   2 cluster supergroup     539833 2025-04-27 20:55 /f1/data/results.parquet/part-00000-89ca1a1b-73a7-4547-8805-569f2378e475-c000.snappy.parquet\n",
      "Found 2 items\n",
      "-rw-r--r--   2 cluster supergroup          0 2025-04-27 20:55 /f1/data/seasons.parquet/_SUCCESS\n",
      "-rw-r--r--   2 cluster supergroup       1722 2025-04-27 20:55 /f1/data/seasons.parquet/part-00000-9510ff6b-ae98-49c6-81d8-615e83b04321-c000.snappy.parquet\n",
      "Found 2 items\n",
      "-rw-r--r--   2 cluster supergroup          0 2025-04-27 20:55 /f1/data/sprint_results.parquet/_SUCCESS\n",
      "-rw-r--r--   2 cluster supergroup      15358 2025-04-27 20:55 /f1/data/sprint_results.parquet/part-00000-1f492e7b-c65e-46f1-bf6b-fb7f66ed9fad-c000.snappy.parquet\n",
      "Found 2 items\n",
      "-rw-r--r--   2 cluster supergroup          0 2025-04-27 20:55 /f1/data/status.parquet/_SUCCESS\n",
      "-rw-r--r--   2 cluster supergroup       2561 2025-04-27 20:55 /f1/data/status.parquet/part-00000-4bd22e1f-d501-4f62-8b2f-21993469f2a6-c000.snappy.parquet\n"
     ]
    }
   ],
   "source": [
    "!hdfs dfs -ls /f1/data/*.parquet"
   ]
  },
  {
   "cell_type": "code",
   "execution_count": 13,
   "id": "0c4715eb-5476-4f32-8e64-e7533fe6937b",
   "metadata": {},
   "outputs": [],
   "source": [
    "from pyspark.sql.functions import col\n",
    "\n",
    "def has_nulls(df):\n",
    "    has_nulls = False\n",
    "    for column in df.columns:\n",
    "        null_count = df.filter(col(column).isNull()).count()\n",
    "        if null_count > 0:\n",
    "            print(f\"Column '{column}' has {null_count} null value(s):\")\n",
    "            df.filter(col(column).isNull()).show()\n",
    "            has_nulls = True\n",
    "    \n",
    "    if not has_nulls:\n",
    "        print(\"False\")"
   ]
  },
  {
   "cell_type": "code",
   "execution_count": 14,
   "id": "5b9a6956-d295-4ba6-acfb-a63d72db33a0",
   "metadata": {},
   "outputs": [],
   "source": [
    "def has_duplicates(df):\n",
    "    distinct_count = df.distinct().count()\n",
    "    total_count = df.count()\n",
    "    return total_count != distinct_count"
   ]
  },
  {
   "cell_type": "markdown",
   "id": "afc3b6da-a00e-490d-960e-8380ecc650f1",
   "metadata": {},
   "source": [
    "# Circuits\n",
    "\n",
    "Let's investigate the circuites dataset."
   ]
  },
  {
   "cell_type": "code",
   "execution_count": 245,
   "id": "b04ca9f3-d97b-4807-bfdc-ec16dc7af0ad",
   "metadata": {},
   "outputs": [],
   "source": [
    "circuits_df = spark.read.parquet(f\"/f1/data/circuits.parquet\")"
   ]
  },
  {
   "cell_type": "code",
   "execution_count": 246,
   "id": "5ea0f376-1347-4500-8275-5d374d26abb8",
   "metadata": {},
   "outputs": [
    {
     "name": "stdout",
     "output_type": "stream",
     "text": [
      "root\n",
      " |-- circuitId: integer (nullable = true)\n",
      " |-- circuitRef: string (nullable = true)\n",
      " |-- name: string (nullable = true)\n",
      " |-- location: string (nullable = true)\n",
      " |-- country: string (nullable = true)\n",
      " |-- lat: double (nullable = true)\n",
      " |-- lng: double (nullable = true)\n",
      " |-- alt: integer (nullable = true)\n",
      " |-- url: string (nullable = true)\n",
      "\n"
     ]
    }
   ],
   "source": [
    "circuits_df.printSchema()"
   ]
  },
  {
   "cell_type": "markdown",
   "id": "367d1086-e842-4073-a865-11c4829a0a16",
   "metadata": {},
   "source": [
    "We will not need the \"url\" or the \"alt\" column in this project."
   ]
  },
  {
   "cell_type": "code",
   "execution_count": 247,
   "id": "648a40e9-b674-49c0-bc22-ecc0f266ac4a",
   "metadata": {},
   "outputs": [
    {
     "name": "stdout",
     "output_type": "stream",
     "text": [
      "root\n",
      " |-- circuitId: integer (nullable = true)\n",
      " |-- circuitRef: string (nullable = true)\n",
      " |-- name: string (nullable = true)\n",
      " |-- location: string (nullable = true)\n",
      " |-- country: string (nullable = true)\n",
      " |-- lat: double (nullable = true)\n",
      " |-- lng: double (nullable = true)\n",
      "\n"
     ]
    }
   ],
   "source": [
    "circuits_df = circuits_df.drop(\"url\", \"alt\")\n",
    "circuits_df.printSchema()"
   ]
  },
  {
   "cell_type": "code",
   "execution_count": 248,
   "id": "ee769d75-ce53-456c-918d-a598a5764fa1",
   "metadata": {},
   "outputs": [
    {
     "data": {
      "text/plain": [
       "77"
      ]
     },
     "execution_count": 248,
     "metadata": {},
     "output_type": "execute_result"
    }
   ],
   "source": [
    "circuits_df.count()"
   ]
  },
  {
   "cell_type": "code",
   "execution_count": 249,
   "id": "27fafc54-b33c-4884-80b1-6b3e00b78939",
   "metadata": {},
   "outputs": [
    {
     "name": "stdout",
     "output_type": "stream",
     "text": [
      "+---------+-----------+--------------------+------------+---------+--------+-------+\n",
      "|circuitId| circuitRef|                name|    location|  country|     lat|    lng|\n",
      "+---------+-----------+--------------------+------------+---------+--------+-------+\n",
      "|        1|albert_park|Albert Park Grand...|   Melbourne|Australia|-37.8497|144.968|\n",
      "|        2|     sepang|Sepang Internatio...|Kuala Lumpur| Malaysia| 2.76083|101.738|\n",
      "|        3|    bahrain|Bahrain Internati...|      Sakhir|  Bahrain| 26.0325|50.5106|\n",
      "|        4|  catalunya|Circuit de Barcel...|    Montmeló|    Spain|   41.57|2.26111|\n",
      "|        5|   istanbul|       Istanbul Park|    Istanbul|   Turkey| 40.9517| 29.405|\n",
      "+---------+-----------+--------------------+------------+---------+--------+-------+\n",
      "only showing top 5 rows\n",
      "\n"
     ]
    }
   ],
   "source": [
    "circuits_df.show(5)"
   ]
  },
  {
   "cell_type": "markdown",
   "id": "43abb6e6-abf2-48be-b04c-a2f7af2e5cb8",
   "metadata": {},
   "source": [
    "There are not many numerical values in this table except for the latitude and the longitude. We would like to check if those values seem plausible."
   ]
  },
  {
   "cell_type": "code",
   "execution_count": 250,
   "id": "95e23713-ee90-4ba6-956f-93df28c4c183",
   "metadata": {},
   "outputs": [
    {
     "name": "stdout",
     "output_type": "stream",
     "text": [
      "+-------+------------------+\n",
      "|summary|               lat|\n",
      "+-------+------------------+\n",
      "|  count|                77|\n",
      "|   mean| 33.44292506493504|\n",
      "| stddev|22.808865758428386|\n",
      "|    min|          -37.8497|\n",
      "|    max|           57.2653|\n",
      "+-------+------------------+\n",
      "\n"
     ]
    }
   ],
   "source": [
    "circuits_df.describe(\"lat\").show()"
   ]
  },
  {
   "cell_type": "code",
   "execution_count": 251,
   "id": "1e2fc939-202d-44e1-8e59-8dce655d3235",
   "metadata": {},
   "outputs": [
    {
     "name": "stdout",
     "output_type": "stream",
     "text": [
      "+-------+------------------+\n",
      "|summary|               lng|\n",
      "+-------+------------------+\n",
      "|  count|                77|\n",
      "|   mean|1.0766831168831186|\n",
      "| stddev| 65.51695070331967|\n",
      "|    min|          -118.189|\n",
      "|    max|           144.968|\n",
      "+-------+------------------+\n",
      "\n"
     ]
    }
   ],
   "source": [
    "circuits_df.describe(\"lng\").show()"
   ]
  },
  {
   "cell_type": "code",
   "execution_count": 274,
   "id": "82cf22b6-f903-4823-8585-8d540732f326",
   "metadata": {},
   "outputs": [
    {
     "name": "stdout",
     "output_type": "stream",
     "text": [
      "False\n"
     ]
    }
   ],
   "source": [
    "has_nulls(circuits_df)"
   ]
  },
  {
   "cell_type": "code",
   "execution_count": 275,
   "id": "37cb100f-d8ee-47e0-a6ae-1e0891a30a37",
   "metadata": {},
   "outputs": [
    {
     "data": {
      "text/plain": [
       "False"
      ]
     },
     "execution_count": 275,
     "metadata": {},
     "output_type": "execute_result"
    }
   ],
   "source": [
    "has_duplicates(circuits_df)"
   ]
  },
  {
   "cell_type": "code",
   "execution_count": 276,
   "id": "1581daf6-d685-42f8-a30e-c90d79b13602",
   "metadata": {},
   "outputs": [
    {
     "name": "stdout",
     "output_type": "stream",
     "text": [
      "+--------------------+-----+\n",
      "|                name|count|\n",
      "+--------------------+-----+\n",
      "|           Fair Park|    1|\n",
      "|Scandinavian Raceway|    1|\n",
      "|       Istanbul Park|    1|\n",
      "|Albert Park Grand...|    1|\n",
      "|Circuito da Boavista|    1|\n",
      "+--------------------+-----+\n",
      "only showing top 5 rows\n",
      "\n",
      "+----------+-----+\n",
      "|  location|count|\n",
      "+----------+-----+\n",
      "| Barcelona|    2|\n",
      "|California|    2|\n",
      "|Anderstorp|    1|\n",
      "|Casablanca|    1|\n",
      "|   Phoenix|    1|\n",
      "+----------+-----+\n",
      "only showing top 5 rows\n",
      "\n"
     ]
    }
   ],
   "source": [
    "from pyspark.sql.functions import count\n",
    "\n",
    "circuits_df.groupBy(\"name\").agg(count(\"*\").alias(\"count\")).orderBy(\"count\", ascending=False).show(5)\n",
    "circuits_df.groupBy(\"location\").agg(count(\"*\").alias(\"count\")).orderBy(\"count\", ascending=False).show(5)"
   ]
  },
  {
   "cell_type": "markdown",
   "id": "3499ba1c-011c-4626-9114-05fcecd4262a",
   "metadata": {},
   "source": [
    "We can see that there are two locations that have two race tracks. We want to check if there are several tracks in a city or if it might have been renamed at some point or if this is some kind of duplicate that needs to be handled."
   ]
  },
  {
   "cell_type": "code",
   "execution_count": 257,
   "id": "100a5fb9-f7e6-4be1-90c9-d0c2d5ce089c",
   "metadata": {},
   "outputs": [
    {
     "name": "stdout",
     "output_type": "stream",
     "text": [
      "+---------+----------+--------------------+---------+-------+-------+-------+\n",
      "|circuitId|circuitRef|                name| location|country|    lat|    lng|\n",
      "+---------+----------+--------------------+---------+-------+-------+-------+\n",
      "|       49|  montjuic|            Montjuïc|Barcelona|  Spain|41.3664|2.15167|\n",
      "|       67| pedralbes|Circuit de Pedralbes|Barcelona|  Spain|41.3903|2.11667|\n",
      "+---------+----------+--------------------+---------+-------+-------+-------+\n",
      "\n"
     ]
    }
   ],
   "source": [
    "circuits_df.where(circuits_df.location == \"Barcelona\").show()"
   ]
  },
  {
   "cell_type": "code",
   "execution_count": 258,
   "id": "6d37915a-ad77-4527-8a2c-3f695cf55f41",
   "metadata": {},
   "outputs": [
    {
     "name": "stdout",
     "output_type": "stream",
     "text": [
      "+---------+----------+--------------------+--------------------+-------+-------+---------+\n",
      "|circuitId|circuitRef|                name|            location|country|    lat|      lng|\n",
      "+---------+----------+--------------------+--------------------+-------+-------+---------+\n",
      "|        4| catalunya|Circuit de Barcel...|            Montmeló|  Spain|  41.57|  2.26111|\n",
      "|       12|  valencia|Valencia Street C...|            Valencia|  Spain|39.4589|-0.331667|\n",
      "|       26|     jerez|   Circuito de Jerez|Jerez de la Frontera|  Spain|36.7083| -6.03417|\n",
      "|       45|    jarama|              Jarama|              Madrid|  Spain|40.6171| -3.58558|\n",
      "|       49|  montjuic|            Montjuïc|           Barcelona|  Spain|41.3664|  2.15167|\n",
      "|       67| pedralbes|Circuit de Pedralbes|           Barcelona|  Spain|41.3903|  2.11667|\n",
      "+---------+----------+--------------------+--------------------+-------+-------+---------+\n",
      "\n"
     ]
    }
   ],
   "source": [
    "circuits_df.where(circuits_df.country == \"Spain\").show()"
   ]
  },
  {
   "cell_type": "code",
   "execution_count": 259,
   "id": "316907ef-988e-4ef8-b8b9-679f2f537d8f",
   "metadata": {},
   "outputs": [
    {
     "name": "stdout",
     "output_type": "stream",
     "text": [
      "+---------+----------+--------------------+----------+-------+-------+--------+\n",
      "|circuitId|circuitRef|                name|  location|country|    lat|     lng|\n",
      "+---------+----------+--------------------+----------+-------+-------+--------+\n",
      "|       43|long_beach|          Long Beach|California|    USA|33.7651|-118.189|\n",
      "|       60| riverside|Riverside Interna...|California|    USA| 33.937|-117.273|\n",
      "+---------+----------+--------------------+----------+-------+-------+--------+\n",
      "\n"
     ]
    }
   ],
   "source": [
    "circuits_df.where(circuits_df.location == \"California\").show()"
   ]
  },
  {
   "cell_type": "markdown",
   "id": "b151d8b0-692f-4496-8bd4-c5f8ea1209ac",
   "metadata": {},
   "source": [
    "We want to create a new parquet file with the modifications we made."
   ]
  },
  {
   "cell_type": "code",
   "execution_count": 260,
   "id": "3048dbb6-acd2-46af-a5fd-e855da928a8e",
   "metadata": {},
   "outputs": [],
   "source": [
    "circuits_df.write.mode('overwrite').parquet(f\"/f1/data/cleaned_circuits.parquet\")"
   ]
  },
  {
   "cell_type": "markdown",
   "id": "24540ec2-469d-4665-b943-4668eed985c8",
   "metadata": {},
   "source": [
    "# Constructor Results\n",
    "\n",
    "Let's investigate the constructors results dataset."
   ]
  },
  {
   "cell_type": "code",
   "execution_count": 261,
   "id": "9dc665ce-3da3-485a-922b-205a0e68695e",
   "metadata": {},
   "outputs": [],
   "source": [
    "constructor_results_df = spark.read.parquet(f\"/f1/data/constructor_results.parquet\")"
   ]
  },
  {
   "cell_type": "code",
   "execution_count": 262,
   "id": "fab6ac7f-5b5e-4c9e-9021-5068e8f0b913",
   "metadata": {},
   "outputs": [
    {
     "name": "stdout",
     "output_type": "stream",
     "text": [
      "root\n",
      " |-- constructorResultsId: integer (nullable = true)\n",
      " |-- raceId: integer (nullable = true)\n",
      " |-- constructorId: integer (nullable = true)\n",
      " |-- points: double (nullable = true)\n",
      " |-- status: string (nullable = true)\n",
      "\n"
     ]
    }
   ],
   "source": [
    "constructor_results_df.printSchema()"
   ]
  },
  {
   "cell_type": "markdown",
   "id": "0296d30c-2148-47e5-b120-a18f5fb7f47c",
   "metadata": {},
   "source": [
    "We will not need the column \"status\"."
   ]
  },
  {
   "cell_type": "code",
   "execution_count": 263,
   "id": "0f1603e1-8f94-4424-a527-b861a3219367",
   "metadata": {},
   "outputs": [
    {
     "name": "stdout",
     "output_type": "stream",
     "text": [
      "root\n",
      " |-- constructorResultsId: integer (nullable = true)\n",
      " |-- raceId: integer (nullable = true)\n",
      " |-- constructorId: integer (nullable = true)\n",
      " |-- points: double (nullable = true)\n",
      "\n"
     ]
    }
   ],
   "source": [
    "constructor_results_df = constructor_results_df.drop(\"status\")\n",
    "constructor_results_df.printSchema()"
   ]
  },
  {
   "cell_type": "code",
   "execution_count": 277,
   "id": "a4d297f9-2c28-4f4a-9357-5edb113a1ad4",
   "metadata": {},
   "outputs": [
    {
     "data": {
      "text/plain": [
       "12625"
      ]
     },
     "execution_count": 277,
     "metadata": {},
     "output_type": "execute_result"
    }
   ],
   "source": [
    "constructor_results_df.count()"
   ]
  },
  {
   "cell_type": "code",
   "execution_count": 278,
   "id": "db0b1b37-e92d-4da4-80bf-32e19d2a1272",
   "metadata": {},
   "outputs": [
    {
     "name": "stdout",
     "output_type": "stream",
     "text": [
      "+--------------------+------+-------------+------+\n",
      "|constructorResultsId|raceId|constructorId|points|\n",
      "+--------------------+------+-------------+------+\n",
      "|                   1|    18|            1|  14.0|\n",
      "|                   2|    18|            2|   8.0|\n",
      "|                   3|    18|            3|   9.0|\n",
      "|                   4|    18|            4|   5.0|\n",
      "|                   5|    18|            5|   2.0|\n",
      "+--------------------+------+-------------+------+\n",
      "only showing top 5 rows\n",
      "\n"
     ]
    }
   ],
   "source": [
    "constructor_results_df.show(5)"
   ]
  },
  {
   "cell_type": "code",
   "execution_count": 279,
   "id": "f0e7b43b-0772-40bf-8995-bc35049bf47d",
   "metadata": {},
   "outputs": [
    {
     "name": "stdout",
     "output_type": "stream",
     "text": [
      "+-------+-----------------+\n",
      "|summary|           points|\n",
      "+-------+-----------------+\n",
      "|  count|            12625|\n",
      "|   mean|4.053544554455446|\n",
      "| stddev|7.862202438051315|\n",
      "|    min|              0.0|\n",
      "|    max|             66.0|\n",
      "+-------+-----------------+\n",
      "\n"
     ]
    }
   ],
   "source": [
    "constructor_results_df.describe(\"points\").show()"
   ]
  },
  {
   "cell_type": "code",
   "execution_count": 280,
   "id": "5722d709-3166-4811-8786-e3b824bb83a6",
   "metadata": {},
   "outputs": [
    {
     "name": "stdout",
     "output_type": "stream",
     "text": [
      "False\n"
     ]
    }
   ],
   "source": [
    "has_nulls(constructor_results_df)"
   ]
  },
  {
   "cell_type": "code",
   "execution_count": 281,
   "id": "ff98351f-4677-4bcc-9daf-a2df4fd8a961",
   "metadata": {},
   "outputs": [
    {
     "data": {
      "text/plain": [
       "False"
      ]
     },
     "execution_count": 281,
     "metadata": {},
     "output_type": "execute_result"
    }
   ],
   "source": [
    "has_duplicates(constructor_results_df)"
   ]
  },
  {
   "cell_type": "markdown",
   "id": "af725f4b-fa09-4d0d-bcc5-f985798f223a",
   "metadata": {},
   "source": [
    "We want to create a new parquet file with the modifications we made."
   ]
  },
  {
   "cell_type": "code",
   "execution_count": 283,
   "id": "712cfce2-86ff-4643-9339-0bc59d3892c0",
   "metadata": {},
   "outputs": [],
   "source": [
    "constructor_results_df.write.mode('overwrite').parquet(f\"/f1/data/cleaned_constructor_results.parquet\")"
   ]
  },
  {
   "cell_type": "markdown",
   "id": "b248d2e8-ed4f-4aeb-8c17-d68c993ab170",
   "metadata": {},
   "source": [
    "# Constructor Standings"
   ]
  },
  {
   "cell_type": "code",
   "execution_count": 284,
   "id": "e44a42f1-a295-419d-b3eb-19e5b71f393f",
   "metadata": {},
   "outputs": [],
   "source": [
    "constructor_standings_df = spark.read.parquet(f\"/f1/data/constructor_standings.parquet\")"
   ]
  },
  {
   "cell_type": "code",
   "execution_count": 286,
   "id": "038fc005-1f58-4b9e-b5d7-69b9f4c23e7a",
   "metadata": {},
   "outputs": [
    {
     "name": "stdout",
     "output_type": "stream",
     "text": [
      "root\n",
      " |-- constructorStandingsId: integer (nullable = true)\n",
      " |-- raceId: integer (nullable = true)\n",
      " |-- constructorId: integer (nullable = true)\n",
      " |-- points: double (nullable = true)\n",
      " |-- position: integer (nullable = true)\n",
      " |-- positionText: string (nullable = true)\n",
      " |-- wins: integer (nullable = true)\n",
      "\n"
     ]
    }
   ],
   "source": [
    "constructor_standings_df.printSchema()\n",
    "\n",
    "# TODO CHECK IF WE NEED BOTH POSITIONS"
   ]
  },
  {
   "cell_type": "code",
   "execution_count": 287,
   "id": "6953fba1-7282-4637-9993-c863c2fb21c1",
   "metadata": {},
   "outputs": [
    {
     "data": {
      "text/plain": [
       "13391"
      ]
     },
     "execution_count": 287,
     "metadata": {},
     "output_type": "execute_result"
    }
   ],
   "source": [
    "constructor_standings_df.count()"
   ]
  },
  {
   "cell_type": "code",
   "execution_count": 288,
   "id": "2a12f2cc-136d-46a8-9ce1-2f97bbc536cd",
   "metadata": {},
   "outputs": [
    {
     "name": "stdout",
     "output_type": "stream",
     "text": [
      "+----------------------+------+-------------+------+--------+------------+----+\n",
      "|constructorStandingsId|raceId|constructorId|points|position|positionText|wins|\n",
      "+----------------------+------+-------------+------+--------+------------+----+\n",
      "|                     1|    18|            1|  14.0|       1|           1|   1|\n",
      "|                     2|    18|            2|   8.0|       3|           3|   0|\n",
      "|                     3|    18|            3|   9.0|       2|           2|   0|\n",
      "|                     4|    18|            4|   5.0|       4|           4|   0|\n",
      "|                     5|    18|            5|   2.0|       5|           5|   0|\n",
      "+----------------------+------+-------------+------+--------+------------+----+\n",
      "only showing top 5 rows\n",
      "\n"
     ]
    }
   ],
   "source": [
    "constructor_standings_df.show(5)"
   ]
  },
  {
   "cell_type": "code",
   "execution_count": 290,
   "id": "a05bff7e-c645-491c-9a03-18018d9d086d",
   "metadata": {},
   "outputs": [
    {
     "name": "stdout",
     "output_type": "stream",
     "text": [
      "+-------+-----------------+\n",
      "|summary|         position|\n",
      "+-------+-----------------+\n",
      "|  count|            13391|\n",
      "|   mean|7.226047345231872|\n",
      "| stddev|4.355923187738124|\n",
      "|    min|                1|\n",
      "|    max|               22|\n",
      "+-------+-----------------+\n",
      "\n"
     ]
    }
   ],
   "source": [
    "constructor_standings_df.describe(\"position\").show()"
   ]
  },
  {
   "cell_type": "code",
   "execution_count": 292,
   "id": "ba1678f1-dde9-443f-b409-85378fa8f1d5",
   "metadata": {},
   "outputs": [
    {
     "name": "stdout",
     "output_type": "stream",
     "text": [
      "False\n"
     ]
    }
   ],
   "source": [
    "has_nulls(constructor_standings_df)"
   ]
  },
  {
   "cell_type": "code",
   "execution_count": 296,
   "id": "d66c083c-5a58-412e-bda3-be96932ab3f0",
   "metadata": {},
   "outputs": [
    {
     "data": {
      "text/plain": [
       "False"
      ]
     },
     "execution_count": 296,
     "metadata": {},
     "output_type": "execute_result"
    }
   ],
   "source": [
    "has_duplicates(constructor_standings_df)"
   ]
  },
  {
   "cell_type": "markdown",
   "id": "1713c222-cab3-4308-96a4-aba5bc70dc20",
   "metadata": {},
   "source": [
    "We want to create a new parquet file with the modifications we made."
   ]
  },
  {
   "cell_type": "code",
   "execution_count": 297,
   "id": "6bbf5411-a4cb-4e73-b49c-9785616c5422",
   "metadata": {},
   "outputs": [],
   "source": [
    "constructor_standings_df.write.mode('overwrite').parquet(f\"/f1/data/cleaned_constructor_standings.parquet\")"
   ]
  },
  {
   "cell_type": "markdown",
   "id": "6df8e66d-babf-4caf-a69d-2e8e44777835",
   "metadata": {},
   "source": [
    "# Constructors"
   ]
  },
  {
   "cell_type": "code",
   "execution_count": 298,
   "id": "18e97004-04b0-4761-b996-24fe82572561",
   "metadata": {},
   "outputs": [],
   "source": [
    "constructors_df = spark.read.parquet(f\"/f1/data/constructors.parquet\")"
   ]
  },
  {
   "cell_type": "code",
   "execution_count": 299,
   "id": "a2fea110-24d7-4c5f-99f2-b6ce3596309b",
   "metadata": {},
   "outputs": [
    {
     "name": "stdout",
     "output_type": "stream",
     "text": [
      "root\n",
      " |-- constructorId: integer (nullable = true)\n",
      " |-- constructorRef: string (nullable = true)\n",
      " |-- name: string (nullable = true)\n",
      " |-- nationality: string (nullable = true)\n",
      " |-- url: string (nullable = true)\n",
      "\n"
     ]
    }
   ],
   "source": [
    "constructors_df.printSchema()"
   ]
  },
  {
   "cell_type": "markdown",
   "id": "39a7b42e-27b6-4a77-bd37-0c861041b729",
   "metadata": {},
   "source": [
    "We do not need the URL column."
   ]
  },
  {
   "cell_type": "code",
   "execution_count": 300,
   "id": "4c3f7254-f333-41c1-bb25-c63eafc5aa0c",
   "metadata": {},
   "outputs": [
    {
     "name": "stdout",
     "output_type": "stream",
     "text": [
      "root\n",
      " |-- constructorId: integer (nullable = true)\n",
      " |-- constructorRef: string (nullable = true)\n",
      " |-- name: string (nullable = true)\n",
      " |-- nationality: string (nullable = true)\n",
      "\n"
     ]
    }
   ],
   "source": [
    "constructors_df = constructors_df.drop(\"url\")\n",
    "constructors_df.printSchema()"
   ]
  },
  {
   "cell_type": "code",
   "execution_count": 301,
   "id": "17532650-a63b-4833-a3dc-248e29459f3e",
   "metadata": {},
   "outputs": [
    {
     "data": {
      "text/plain": [
       "212"
      ]
     },
     "execution_count": 301,
     "metadata": {},
     "output_type": "execute_result"
    }
   ],
   "source": [
    "constructors_df.count()"
   ]
  },
  {
   "cell_type": "code",
   "execution_count": 302,
   "id": "7520a42e-aaa9-4074-8f7d-d203b15e412b",
   "metadata": {},
   "outputs": [
    {
     "name": "stdout",
     "output_type": "stream",
     "text": [
      "+-------------+--------------+----------+-----------+\n",
      "|constructorId|constructorRef|      name|nationality|\n",
      "+-------------+--------------+----------+-----------+\n",
      "|            1|       mclaren|   McLaren|    British|\n",
      "|            2|    bmw_sauber|BMW Sauber|     German|\n",
      "|            3|      williams|  Williams|    British|\n",
      "|            4|       renault|   Renault|     French|\n",
      "|            5|    toro_rosso|Toro Rosso|    Italian|\n",
      "+-------------+--------------+----------+-----------+\n",
      "only showing top 5 rows\n",
      "\n"
     ]
    }
   ],
   "source": [
    "constructors_df.show(5)"
   ]
  },
  {
   "cell_type": "code",
   "execution_count": 305,
   "id": "f7f439c8-2e38-4694-8ac3-72b88991dbec",
   "metadata": {},
   "outputs": [
    {
     "name": "stdout",
     "output_type": "stream",
     "text": [
      "+------------------+-----+\n",
      "|              name|count|\n",
      "+------------------+-----+\n",
      "|               EMW|    1|\n",
      "|           Shannon|    1|\n",
      "|            Shadow|    1|\n",
      "|             Simca|    1|\n",
      "|Cooper-Castellotti|    1|\n",
      "+------------------+-----+\n",
      "only showing top 5 rows\n",
      "\n"
     ]
    }
   ],
   "source": [
    "from pyspark.sql.functions import count\n",
    "\n",
    "constructors_df.groupBy(\"name\").agg(count(\"*\").alias(\"count\")).orderBy(\"count\", ascending=False).show(5)"
   ]
  },
  {
   "cell_type": "code",
   "execution_count": 306,
   "id": "91bfbecc-dd75-4b8f-9834-889d21db98b2",
   "metadata": {},
   "outputs": [
    {
     "name": "stdout",
     "output_type": "stream",
     "text": [
      "False\n"
     ]
    }
   ],
   "source": [
    "has_nulls(constructors_df)"
   ]
  },
  {
   "cell_type": "code",
   "execution_count": 307,
   "id": "a7ffbb66-2c06-450c-8ba7-33f4e0bf0c38",
   "metadata": {},
   "outputs": [
    {
     "data": {
      "text/plain": [
       "False"
      ]
     },
     "execution_count": 307,
     "metadata": {},
     "output_type": "execute_result"
    }
   ],
   "source": [
    "has_duplicates(constructors_df)"
   ]
  },
  {
   "cell_type": "markdown",
   "id": "1d1865c6-f433-4958-b6d2-649da3df9ff8",
   "metadata": {},
   "source": [
    "We want to create a new parquet file with the modifications we made."
   ]
  },
  {
   "cell_type": "code",
   "execution_count": 308,
   "id": "9ced6149-7ab5-47b5-9e38-b96b7a034379",
   "metadata": {},
   "outputs": [],
   "source": [
    "constructors_df.write.mode('overwrite').parquet(f\"/f1/data/cleaned_constructors.parquet\")"
   ]
  },
  {
   "cell_type": "markdown",
   "id": "7eb50f9f-9b0e-419f-84b5-538ef1ceb22c",
   "metadata": {},
   "source": [
    "# Driver Standings"
   ]
  },
  {
   "cell_type": "code",
   "execution_count": 5,
   "id": "b09ac015-fef5-4bed-8791-5daab8778ba2",
   "metadata": {},
   "outputs": [
    {
     "name": "stderr",
     "output_type": "stream",
     "text": [
      "                                                                                "
     ]
    }
   ],
   "source": [
    "driver_standings_df = spark.read.parquet(f\"/f1/data/driver_standings.parquet\")"
   ]
  },
  {
   "cell_type": "code",
   "execution_count": 370,
   "id": "bbb2bf02-58e4-4b6a-9cda-5ca7501fcc84",
   "metadata": {},
   "outputs": [
    {
     "name": "stdout",
     "output_type": "stream",
     "text": [
      "root\n",
      " |-- driverStandingsId: integer (nullable = true)\n",
      " |-- raceId: integer (nullable = true)\n",
      " |-- driverId: integer (nullable = true)\n",
      " |-- points: double (nullable = true)\n",
      " |-- position: integer (nullable = true)\n",
      " |-- positionText: string (nullable = true)\n",
      " |-- wins: integer (nullable = true)\n",
      "\n"
     ]
    }
   ],
   "source": [
    "driver_standings_df.printSchema()\n",
    "# DO WE NEED BOTH POSITIONS"
   ]
  },
  {
   "cell_type": "code",
   "execution_count": 312,
   "id": "39a0ddf1-f99b-4478-b627-174150f4c824",
   "metadata": {},
   "outputs": [
    {
     "data": {
      "text/plain": [
       "34863"
      ]
     },
     "execution_count": 312,
     "metadata": {},
     "output_type": "execute_result"
    }
   ],
   "source": [
    "driver_standings_df.count()"
   ]
  },
  {
   "cell_type": "code",
   "execution_count": 313,
   "id": "007757b1-cdfa-432e-a0b6-8cf567e29abf",
   "metadata": {},
   "outputs": [
    {
     "name": "stdout",
     "output_type": "stream",
     "text": [
      "+-----------------+------+--------+------+--------+------------+----+\n",
      "|driverStandingsId|raceId|driverId|points|position|positionText|wins|\n",
      "+-----------------+------+--------+------+--------+------------+----+\n",
      "|                1|    18|       1|  10.0|       1|           1|   1|\n",
      "|                2|    18|       2|   8.0|       2|           2|   0|\n",
      "|                3|    18|       3|   6.0|       3|           3|   0|\n",
      "|                4|    18|       4|   5.0|       4|           4|   0|\n",
      "|                5|    18|       5|   4.0|       5|           5|   0|\n",
      "+-----------------+------+--------+------+--------+------------+----+\n",
      "only showing top 5 rows\n",
      "\n"
     ]
    }
   ],
   "source": [
    "driver_standings_df.show(5)"
   ]
  },
  {
   "cell_type": "code",
   "execution_count": 316,
   "id": "8d55edc8-97e3-4d53-ae4a-e7b1b99048a9",
   "metadata": {},
   "outputs": [
    {
     "name": "stdout",
     "output_type": "stream",
     "text": [
      "False\n"
     ]
    }
   ],
   "source": [
    "has_nulls(driver_standings_df)"
   ]
  },
  {
   "cell_type": "code",
   "execution_count": 317,
   "id": "3e08e2b4-3e4e-4841-acfc-8f559ef80fcb",
   "metadata": {},
   "outputs": [
    {
     "data": {
      "text/plain": [
       "False"
      ]
     },
     "execution_count": 317,
     "metadata": {},
     "output_type": "execute_result"
    }
   ],
   "source": [
    "has_duplicates(driver_standings_df)"
   ]
  },
  {
   "cell_type": "code",
   "execution_count": 6,
   "id": "c170dcde-500d-4908-8cc1-e930d9b92107",
   "metadata": {},
   "outputs": [
    {
     "name": "stderr",
     "output_type": "stream",
     "text": [
      "                                                                                "
     ]
    },
    {
     "name": "stdout",
     "output_type": "stream",
     "text": [
      "+-------+-----------------+\n",
      "|summary|           points|\n",
      "+-------+-----------------+\n",
      "|  count|            34863|\n",
      "|   mean|14.70442331411525|\n",
      "| stddev| 38.9780943048413|\n",
      "|    min|              0.0|\n",
      "|    max|            575.0|\n",
      "+-------+-----------------+\n",
      "\n"
     ]
    }
   ],
   "source": [
    "driver_standings_df.describe(\"points\").show()"
   ]
  },
  {
   "cell_type": "code",
   "execution_count": 98,
   "id": "f7a3c5e9-eb73-4cc7-8349-5b844aab33ec",
   "metadata": {},
   "outputs": [
    {
     "name": "stdout",
     "output_type": "stream",
     "text": [
      "+-------+------------------+\n",
      "|summary|          position|\n",
      "+-------+------------------+\n",
      "|  count|             34863|\n",
      "|   mean|19.716719731520524|\n",
      "| stddev| 16.29340082162511|\n",
      "|    min|                 1|\n",
      "|    max|               108|\n",
      "+-------+------------------+\n",
      "\n"
     ]
    }
   ],
   "source": [
    "driver_standings_df.describe(\"position\").show()"
   ]
  },
  {
   "cell_type": "markdown",
   "id": "865a7691-a12d-4fec-8b56-2b9b2d6a8b9f",
   "metadata": {},
   "source": [
    "The maximum of the position is very high. Nowadays there are 20 drivers per race. Sometimes there are drivers that are around the 20th to 25th position in the overall standings, as some drivers get switched out during the season or are unable to drive and a replacement driver drives a race. 108 is a position that would not happen anymore today. Let's investigate."
   ]
  },
  {
   "cell_type": "code",
   "execution_count": 318,
   "id": "01d78578-bd17-4993-8bf6-436a7a20f7b7",
   "metadata": {},
   "outputs": [
    {
     "name": "stdout",
     "output_type": "stream",
     "text": [
      "+-----------------+------+--------+------+--------+------------+----+\n",
      "|driverStandingsId|raceId|driverId|points|position|positionText|wins|\n",
      "+-----------------+------+--------+------+--------+------------+----+\n",
      "|            45379|   816|     718|   0.0|     108|         108|   0|\n",
      "|            45377|   816|     716|   0.0|     107|         107|   0|\n",
      "|            45331|   816|     655|   0.0|     106|         106|   0|\n",
      "|            45376|   816|     715|   0.0|     105|         105|   0|\n",
      "|            44722|   824|     760|   0.0|     105|         105|   0|\n",
      "|            45388|   816|     667|   0.0|     104|         104|   0|\n",
      "|            44671|   824|     612|   0.0|     104|         104|   0|\n",
      "|            45276|   815|     718|   0.0|     103|         103|   0|\n",
      "|            45375|   816|     714|   0.0|     103|         103|   0|\n",
      "|            44670|   824|     734|   0.0|     103|         103|   0|\n",
      "+-----------------+------+--------+------+--------+------------+----+\n",
      "only showing top 10 rows\n",
      "\n"
     ]
    }
   ],
   "source": [
    "driver_standings_df.sort(\"position\", ascending=False).show(10)"
   ]
  },
  {
   "cell_type": "code",
   "execution_count": 319,
   "id": "35853e1c-f70d-4810-a25d-f70877670419",
   "metadata": {},
   "outputs": [
    {
     "name": "stdout",
     "output_type": "stream",
     "text": [
      "+--------+-----+\n",
      "|position|count|\n",
      "+--------+-----+\n",
      "|     108|    1|\n",
      "|     107|    1|\n",
      "|     106|    1|\n",
      "|     105|    2|\n",
      "|     104|    2|\n",
      "|     101|    3|\n",
      "|     103|    3|\n",
      "|     102|    3|\n",
      "|     100|    4|\n",
      "|      99|    4|\n",
      "|      98|    5|\n",
      "|      97|    6|\n",
      "|      96|    7|\n",
      "|      95|    8|\n",
      "|      94|    9|\n",
      "|      93|   10|\n",
      "|      92|   10|\n",
      "|      91|   11|\n",
      "|      90|   12|\n",
      "|      89|   12|\n",
      "+--------+-----+\n",
      "only showing top 20 rows\n",
      "\n"
     ]
    }
   ],
   "source": [
    "from pyspark.sql.functions import count\n",
    "\n",
    "driver_standings_df.groupBy(\"position\").agg(count(\"*\").alias(\"count\")).orderBy(\"count\", ascending=True).show(20)"
   ]
  },
  {
   "cell_type": "code",
   "execution_count": 331,
   "id": "095f9205-5d87-4a16-b0bf-757ffd3ee5a1",
   "metadata": {},
   "outputs": [],
   "source": [
    "drivers_df = spark.read.parquet(f\"/f1/data/drivers.parquet\")"
   ]
  },
  {
   "cell_type": "code",
   "execution_count": 332,
   "id": "c064a78e-f97a-41d1-9e9d-f3994cbfd4e0",
   "metadata": {},
   "outputs": [
    {
     "name": "stdout",
     "output_type": "stream",
     "text": [
      "+--------+---------+------+----+--------+-------+----------+-----------+--------------------+\n",
      "|driverId|driverRef|number|code|forename|surname|       dob|nationality|                 url|\n",
      "+--------+---------+------+----+--------+-------+----------+-----------+--------------------+\n",
      "|     718|     loof|    \\N|  \\N|   Ernst|   Loof|1907-07-04|     German|http://en.wikiped...|\n",
      "+--------+---------+------+----+--------+-------+----------+-----------+--------------------+\n",
      "\n"
     ]
    }
   ],
   "source": [
    "drivers_df.where(drivers_df.driverId == 718).show() # the guy with the most last position ever"
   ]
  },
  {
   "cell_type": "code",
   "execution_count": 333,
   "id": "45092fba-89e8-4e41-854b-ee4016811ced",
   "metadata": {},
   "outputs": [
    {
     "name": "stdout",
     "output_type": "stream",
     "text": [
      "+--------+---------+------+----+--------+-------+----------+-----------+--------------------+-----------------+------+--------+------+--------+------------+----+\n",
      "|driverId|driverRef|number|code|forename|surname|       dob|nationality|                 url|driverStandingsId|raceId|driverId|points|position|positionText|wins|\n",
      "+--------+---------+------+----+--------+-------+----------+-----------+--------------------+-----------------+------+--------+------+--------+------------+----+\n",
      "|     718|     loof|    \\N|  \\N|   Ernst|   Loof|1907-07-04|     German|http://en.wikiped...|            45379|   816|     718|   0.0|     108|         108|   0|\n",
      "|     716|    bauer|    \\N|  \\N|   Erwin|  Bauer|1912-07-17|     German|http://en.wikiped...|            45377|   816|     716|   0.0|     107|         107|   0|\n",
      "|     655|    niday|    \\N|  \\N|     Cal|  Niday|1914-04-29|   American|http://en.wikiped...|            45331|   816|     655|   0.0|     106|         106|   0|\n",
      "|     715|   bechem|    \\N|  \\N| Günther| Bechem|1921-12-21|     German|http://en.wikiped...|            45376|   816|     715|   0.0|     105|         105|   0|\n",
      "|     667|    fitch|    \\N|  \\N|    John|  Fitch|1917-08-04|   American|http://en.wikiped...|            45388|   816|     667|   0.0|     104|         104|   0|\n",
      "+--------+---------+------+----+--------+-------+----------+-----------+--------------------+-----------------+------+--------+------+--------+------------+----+\n",
      "only showing top 5 rows\n",
      "\n",
      "+--------+----------+------+----+--------+----------+----------+-----------+--------------------+-----------------+------+--------+------+--------+------------+----+\n",
      "|driverId| driverRef|number|code|forename|   surname|       dob|nationality|                 url|driverStandingsId|raceId|driverId|points|position|positionText|wins|\n",
      "+--------+----------+------+----+--------+----------+----------+-----------+--------------------+-----------------+------+--------+------+--------+------------+----+\n",
      "|      50|verstappen|    \\N|  \\N|     Jos|Verstappen|1972-03-04|      Dutch|http://en.wikiped...|            66232|   263|      50|   0.0|      35|          35|   0|\n",
      "|      50|verstappen|    \\N|  \\N|     Jos|Verstappen|1972-03-04|      Dutch|http://en.wikiped...|            66197|   262|      50|   0.0|      33|          33|   0|\n",
      "|      14| coulthard|    \\N| COU|   David| Coulthard|1971-03-27|    British|http://en.wikiped...|            66180|   261|      14|   0.0|      33|          33|   0|\n",
      "|      50|verstappen|    \\N|  \\N|     Jos|Verstappen|1972-03-04|      Dutch|http://en.wikiped...|            66162|   261|      50|   0.0|      32|          32|   0|\n",
      "|      50|verstappen|    \\N|  \\N|     Jos|Verstappen|1972-03-04|      Dutch|http://en.wikiped...|            10615|   255|      50|   0.0|      31|          31|   0|\n",
      "+--------+----------+------+----+--------+----------+----------+-----------+--------------------+-----------------+------+--------+------+--------+------------+----+\n",
      "only showing top 5 rows\n",
      "\n",
      "+--------+---------+------+----+--------+---------+----------+-----------+--------------------+-----------------+------+--------+------+--------+------------+----+\n",
      "|driverId|driverRef|number|code|forename|  surname|       dob|nationality|                 url|driverStandingsId|raceId|driverId|points|position|positionText|wins|\n",
      "+--------+---------+------+----+--------+---------+----------+-----------+--------------------+-----------------+------+--------+------+--------+------------+----+\n",
      "|     817|ricciardo|     3| RIC|  Daniel|Ricciardo|1989-07-01| Australian|http://en.wikiped...|            64763|   854|     817|   0.0|      27|          27|   0|\n",
      "|     817|ricciardo|     3| RIC|  Daniel|Ricciardo|1989-07-01| Australian|http://en.wikiped...|            64687|   852|     817|   0.0|      27|          27|   0|\n",
      "|     817|ricciardo|     3| RIC|  Daniel|Ricciardo|1989-07-01| Australian|http://en.wikiped...|            64735|   853|     817|   0.0|      27|          27|   0|\n",
      "|     817|ricciardo|     3| RIC|  Daniel|Ricciardo|1989-07-01| Australian|http://en.wikiped...|            64791|   855|     817|   0.0|      27|          27|   0|\n",
      "|     817|ricciardo|     3| RIC|  Daniel|Ricciardo|1989-07-01| Australian|http://en.wikiped...|            64819|   856|     817|   0.0|      27|          27|   0|\n",
      "+--------+---------+------+----+--------+---------+----------+-----------+--------------------+-----------------+------+--------+------+--------+------------+----+\n",
      "only showing top 5 rows\n",
      "\n"
     ]
    }
   ],
   "source": [
    "from pyspark.sql.functions import *\n",
    "\n",
    "drivers_df.join(driver_standings_df, \n",
    "               drivers_df.driverId == driver_standings_df.driverId, \n",
    "               \"inner\").filter(drivers_df[\"dob\"] >= lit('1900-01-31')).sort(\"position\", ascending=False).show(5)\n",
    "\n",
    "drivers_df.join(driver_standings_df, \n",
    "               drivers_df.driverId == driver_standings_df.driverId, \n",
    "               \"inner\").filter(drivers_df[\"dob\"] >= lit('1970-01-31')).sort(\"position\", ascending=False).show(5)\n",
    "\n",
    "drivers_df.join(driver_standings_df, \n",
    "               drivers_df.driverId == driver_standings_df.driverId, \n",
    "               \"inner\").filter(drivers_df[\"dob\"] >= lit('1985-01-31')).sort(\"position\", ascending=False).show(5)"
   ]
  },
  {
   "cell_type": "code",
   "execution_count": 364,
   "id": "da8f62c0-21eb-4221-b846-46caf56b903c",
   "metadata": {},
   "outputs": [
    {
     "name": "stdout",
     "output_type": "stream",
     "text": [
      "+----+-----------------+\n",
      "|year|number_of_drivers|\n",
      "+----+-----------------+\n",
      "|1950|               81|\n",
      "|1951|               84|\n",
      "|1952|              105|\n",
      "|1953|              108|\n",
      "|1954|               97|\n",
      "|1955|               84|\n",
      "|1956|               85|\n",
      "|1957|               76|\n",
      "|1958|               87|\n",
      "|1959|               88|\n",
      "|1960|               91|\n",
      "|1961|               62|\n",
      "|1962|               61|\n",
      "|1963|               62|\n",
      "|1964|               41|\n",
      "|1965|               54|\n",
      "|1966|               33|\n",
      "|1967|               44|\n",
      "|1968|               43|\n",
      "|1969|               30|\n",
      "+----+-----------------+\n",
      "only showing top 20 rows\n",
      "\n",
      "+--------+----+--------+\n",
      "|driverId|year|position|\n",
      "+--------+----+--------+\n",
      "|     718|1953|      98|\n",
      "|     718|1953|     103|\n",
      "|     718|1953|     108|\n",
      "+--------+----+--------+\n",
      "\n"
     ]
    }
   ],
   "source": [
    "races_df = spark.read.parquet(f\"/f1/data/races.parquet\")\n",
    "\n",
    "drivers_per_year_df = races_df.join(driver_standings_df, \n",
    "               races_df.raceId == driver_standings_df.raceId, \n",
    "               \"inner\").groupBy(\"year\").agg(countDistinct(\"driverId\").alias(\"number_of_drivers\")).orderBy(\"year\")\n",
    "drivers_per_year_df.show(20)\n",
    "\n",
    "races_df.join(driver_standings_df, \n",
    "               races_df.raceId == driver_standings_df.raceId, \n",
    "               \"inner\").where(driver_standings_df.driverId == 718).select(driver_standings_df.driverId, races_df.year, driver_standings_df.position).show()"
   ]
  },
  {
   "cell_type": "code",
   "execution_count": 368,
   "id": "84940897-56ef-43e5-9c21-cc3b45e6206c",
   "metadata": {},
   "outputs": [
    {
     "data": {
      "image/png": "[encoded data removed]",
      "text/plain": [
       "<Figure size 640x480 with 1 Axes>"
      ]
     },
     "metadata": {},
     "output_type": "display_data"
    }
   ],
   "source": [
    "import matplotlib.pyplot as plt\n",
    "import pandas as pd\n",
    "\n",
    "drivers_per_year_pdf = drivers_per_year_df.toPandas()\n",
    "\n",
    "plt.plot(drivers_per_year_pdf['year'], drivers_per_year_pdf['number_of_drivers'], marker='o', linestyle='-')\n",
    "plt.title('Number of Drivers per Year')\n",
    "plt.xlabel('Year')\n",
    "plt.ylabel('Number of Drivers')\n",
    "plt.grid(True)\n",
    "plt.show()"
   ]
  },
  {
   "cell_type": "markdown",
   "id": "f0d3a518-2e74-4658-99f8-cc854cf7b634",
   "metadata": {},
   "source": [
    "From the above investigation we can see that it was more commcon to have more drivers and thus more positions in the overall standings. The number of drivers has beend declining very early on. These value seems plausible in the connection with the other parts of the dataset."
   ]
  },
  {
   "cell_type": "markdown",
   "id": "436d4a60-6442-49d6-bd3a-137763ce199b",
   "metadata": {},
   "source": [
    "We want to create a new parquet file with the modifications we made."
   ]
  },
  {
   "cell_type": "code",
   "execution_count": 371,
   "id": "b96e0896-09ae-42b3-af6f-43e8d9694a62",
   "metadata": {},
   "outputs": [],
   "source": [
    "driver_standings_df.write.mode('overwrite').parquet(f\"/f1/data/cleaned_driver_standings.parquet\")"
   ]
  },
  {
   "cell_type": "markdown",
   "id": "b1955a5f-252d-47d2-afa6-3130b0981de1",
   "metadata": {},
   "source": [
    "# Drivers"
   ]
  },
  {
   "cell_type": "code",
   "execution_count": 372,
   "id": "6de202b5-2325-4938-bb8a-b287b27245bb",
   "metadata": {},
   "outputs": [],
   "source": [
    "drivers_df = spark.read.parquet(f\"/f1/data/drivers.parquet\")"
   ]
  },
  {
   "cell_type": "code",
   "execution_count": 373,
   "id": "18797950-2927-4c62-ba8f-0639817db56f",
   "metadata": {},
   "outputs": [
    {
     "name": "stdout",
     "output_type": "stream",
     "text": [
      "root\n",
      " |-- driverId: integer (nullable = true)\n",
      " |-- driverRef: string (nullable = true)\n",
      " |-- number: string (nullable = true)\n",
      " |-- code: string (nullable = true)\n",
      " |-- forename: string (nullable = true)\n",
      " |-- surname: string (nullable = true)\n",
      " |-- dob: date (nullable = true)\n",
      " |-- nationality: string (nullable = true)\n",
      " |-- url: string (nullable = true)\n",
      "\n"
     ]
    }
   ],
   "source": [
    "drivers_df.printSchema()"
   ]
  },
  {
   "cell_type": "markdown",
   "id": "b88ea1d5-9270-4b1e-a3ab-37fd4027c1e2",
   "metadata": {},
   "source": [
    "We don't need the url."
   ]
  },
  {
   "cell_type": "code",
   "execution_count": 374,
   "id": "8ac1f59c-4be5-401e-9da0-be0f19657888",
   "metadata": {},
   "outputs": [
    {
     "name": "stdout",
     "output_type": "stream",
     "text": [
      "root\n",
      " |-- driverId: integer (nullable = true)\n",
      " |-- driverRef: string (nullable = true)\n",
      " |-- number: string (nullable = true)\n",
      " |-- code: string (nullable = true)\n",
      " |-- forename: string (nullable = true)\n",
      " |-- surname: string (nullable = true)\n",
      " |-- dob: date (nullable = true)\n",
      " |-- nationality: string (nullable = true)\n",
      "\n"
     ]
    }
   ],
   "source": [
    "drivers_df = drivers_df.drop(\"url\")\n",
    "drivers_df.printSchema()"
   ]
  },
  {
   "cell_type": "code",
   "execution_count": 375,
   "id": "b04b3ac3-7552-4238-9c19-fe78eba7286f",
   "metadata": {},
   "outputs": [
    {
     "data": {
      "text/plain": [
       "861"
      ]
     },
     "execution_count": 375,
     "metadata": {},
     "output_type": "execute_result"
    }
   ],
   "source": [
    "drivers_df.count()"
   ]
  },
  {
   "cell_type": "code",
   "execution_count": 376,
   "id": "b3b9de97-47c7-4dfe-b754-f8f8f34e7f66",
   "metadata": {},
   "outputs": [
    {
     "name": "stdout",
     "output_type": "stream",
     "text": [
      "+--------+----------+------+----+--------+----------+----------+-----------+\n",
      "|driverId| driverRef|number|code|forename|   surname|       dob|nationality|\n",
      "+--------+----------+------+----+--------+----------+----------+-----------+\n",
      "|       1|  hamilton|    44| HAM|   Lewis|  Hamilton|1985-01-07|    British|\n",
      "|       2|  heidfeld|    \\N| HEI|    Nick|  Heidfeld|1977-05-10|     German|\n",
      "|       3|   rosberg|     6| ROS|    Nico|   Rosberg|1985-06-27|     German|\n",
      "|       4|    alonso|    14| ALO|Fernando|    Alonso|1981-07-29|    Spanish|\n",
      "|       5|kovalainen|    \\N| KOV|  Heikki|Kovalainen|1981-10-19|    Finnish|\n",
      "+--------+----------+------+----+--------+----------+----------+-----------+\n",
      "only showing top 5 rows\n",
      "\n"
     ]
    }
   ],
   "source": [
    "drivers_df.show(5)"
   ]
  },
  {
   "cell_type": "code",
   "execution_count": 379,
   "id": "b72c5b8c-c2bd-4ba8-81ac-7f6ecc90aa95",
   "metadata": {},
   "outputs": [
    {
     "name": "stdout",
     "output_type": "stream",
     "text": [
      "False\n"
     ]
    }
   ],
   "source": [
    "has_nulls(drivers_df)"
   ]
  },
  {
   "cell_type": "code",
   "execution_count": 380,
   "id": "0c6d660d-a5f2-4bca-8371-4f64a0a1a60b",
   "metadata": {},
   "outputs": [
    {
     "data": {
      "text/plain": [
       "False"
      ]
     },
     "execution_count": 380,
     "metadata": {},
     "output_type": "execute_result"
    }
   ],
   "source": [
    "has_duplicates(drivers_df)"
   ]
  },
  {
   "cell_type": "markdown",
   "id": "2ef926f4-ca21-4fb6-9cac-85b78dfbc7c6",
   "metadata": {},
   "source": [
    "We want to create a new parquet file with the modifications we made."
   ]
  },
  {
   "cell_type": "code",
   "execution_count": 381,
   "id": "79b45d09-41a5-48ea-ba6b-c565e23370ad",
   "metadata": {},
   "outputs": [],
   "source": [
    "drivers_df.write.mode('overwrite').parquet(f\"/f1/data/cleaned_drivers.parquet\")"
   ]
  },
  {
   "cell_type": "markdown",
   "id": "6932fe44-3226-436b-8e52-9443588a9e43",
   "metadata": {},
   "source": [
    "# Lap Times"
   ]
  },
  {
   "cell_type": "code",
   "execution_count": 382,
   "id": "db91f33b-e33d-4a2e-a8e2-bbd97de44ded",
   "metadata": {},
   "outputs": [],
   "source": [
    "lap_times_df = spark.read.parquet(f\"/f1/data/lap_times.parquet\")"
   ]
  },
  {
   "cell_type": "code",
   "execution_count": 384,
   "id": "44348227-fe10-4435-89e3-faddda8d6843",
   "metadata": {},
   "outputs": [
    {
     "name": "stdout",
     "output_type": "stream",
     "text": [
      "root\n",
      " |-- raceId: integer (nullable = true)\n",
      " |-- driverId: integer (nullable = true)\n",
      " |-- lap: integer (nullable = true)\n",
      " |-- position: integer (nullable = true)\n",
      " |-- time: string (nullable = true)\n",
      " |-- milliseconds: integer (nullable = true)\n",
      "\n"
     ]
    }
   ],
   "source": [
    "lap_times_df.printSchema()\n",
    "# Likely won't need both times"
   ]
  },
  {
   "cell_type": "code",
   "execution_count": 385,
   "id": "26927c69-3995-4163-97d3-904c7979c539",
   "metadata": {},
   "outputs": [
    {
     "data": {
      "text/plain": [
       "589081"
      ]
     },
     "execution_count": 385,
     "metadata": {},
     "output_type": "execute_result"
    }
   ],
   "source": [
    "lap_times_df.count()"
   ]
  },
  {
   "cell_type": "code",
   "execution_count": 386,
   "id": "ed7857fa-1b70-42fc-b95a-7ab7148a611d",
   "metadata": {},
   "outputs": [
    {
     "name": "stdout",
     "output_type": "stream",
     "text": [
      "+------+--------+---+--------+--------+------------+\n",
      "|raceId|driverId|lap|position|    time|milliseconds|\n",
      "+------+--------+---+--------+--------+------------+\n",
      "|    89|      31| 23|      13|2:37.615|      157615|\n",
      "|    89|      31| 24|      18|2:56.340|      176340|\n",
      "|    89|      35|  1|      15|1:48.789|      108789|\n",
      "|    89|      35|  2|      15|1:39.573|       99573|\n",
      "|    89|      35|  3|      15|1:38.462|       98462|\n",
      "+------+--------+---+--------+--------+------------+\n",
      "only showing top 5 rows\n",
      "\n"
     ]
    }
   ],
   "source": [
    "lap_times_df.show(5)"
   ]
  },
  {
   "cell_type": "code",
   "execution_count": 387,
   "id": "afb48f1f-4391-4938-835e-caaa62f74be7",
   "metadata": {},
   "outputs": [
    {
     "name": "stdout",
     "output_type": "stream",
     "text": [
      "+-------+-----------------+\n",
      "|summary|         position|\n",
      "+-------+-----------------+\n",
      "|  count|           589081|\n",
      "|   mean|9.661951412454314|\n",
      "| stddev|5.528553215741692|\n",
      "|    min|                1|\n",
      "|    max|               24|\n",
      "+-------+-----------------+\n",
      "\n"
     ]
    }
   ],
   "source": [
    "lap_times_df.describe(\"position\").show()"
   ]
  },
  {
   "cell_type": "code",
   "execution_count": 393,
   "id": "b7a6a863-9873-4fad-96f9-2ec55ad1d666",
   "metadata": {},
   "outputs": [
    {
     "name": "stdout",
     "output_type": "stream",
     "text": [
      "+-------+-----------------+\n",
      "|summary|     milliseconds|\n",
      "+-------+-----------------+\n",
      "|  count|           589081|\n",
      "|   mean|95799.44524267461|\n",
      "| stddev|76399.72995510594|\n",
      "|    min|            55404|\n",
      "|    max|          7507547|\n",
      "+-------+-----------------+\n",
      "\n",
      "+-------+--------+\n",
      "|summary|    time|\n",
      "+-------+--------+\n",
      "|  count|  589081|\n",
      "|   mean|    NULL|\n",
      "| stddev|    NULL|\n",
      "|    min|0:55.404|\n",
      "|    max|9:45.712|\n",
      "+-------+--------+\n",
      "\n"
     ]
    }
   ],
   "source": [
    "lap_times_df.describe(\"milliseconds\").show()\n",
    "lap_times_df.describe(\"time\").show()"
   ]
  },
  {
   "cell_type": "code",
   "execution_count": 394,
   "id": "5f6457b6-1ebe-44e7-bae7-382cc564d09a",
   "metadata": {},
   "outputs": [
    {
     "name": "stdout",
     "output_type": "stream",
     "text": [
      "False\n"
     ]
    }
   ],
   "source": [
    "has_nulls(lap_times_df)"
   ]
  },
  {
   "cell_type": "code",
   "execution_count": 395,
   "id": "8c1abd37-4eea-47f0-a74b-e8e034a08488",
   "metadata": {},
   "outputs": [
    {
     "data": {
      "text/plain": [
       "False"
      ]
     },
     "execution_count": 395,
     "metadata": {},
     "output_type": "execute_result"
    }
   ],
   "source": [
    "has_duplicates(lap_times_df)"
   ]
  },
  {
   "cell_type": "markdown",
   "id": "22c3809d-32d2-4038-9727-ea73c835a05d",
   "metadata": {},
   "source": [
    "We want to create a new parquet file with the modifications we made."
   ]
  },
  {
   "cell_type": "code",
   "execution_count": 396,
   "id": "318b705b-8e1a-40cb-ab56-1092786beba0",
   "metadata": {},
   "outputs": [],
   "source": [
    "lap_times_df.write.mode('overwrite').parquet(f\"/f1/data/cleaned_lap_times.parquet\")"
   ]
  },
  {
   "cell_type": "markdown",
   "id": "0c5cd95c-a28f-467a-ad81-372b3831a06d",
   "metadata": {},
   "source": [
    "# Pit Stops"
   ]
  },
  {
   "cell_type": "code",
   "execution_count": 8,
   "id": "5b2787b4-5f05-4765-8688-ff2a1a054996",
   "metadata": {},
   "outputs": [],
   "source": [
    "pit_stops_df = spark.read.parquet(f\"/f1/data/pit_stops.parquet\")"
   ]
  },
  {
   "cell_type": "code",
   "execution_count": 9,
   "id": "56f69e58-28b6-4fc2-99ad-dd55738f0c49",
   "metadata": {},
   "outputs": [
    {
     "name": "stdout",
     "output_type": "stream",
     "text": [
      "root\n",
      " |-- raceId: integer (nullable = true)\n",
      " |-- driverId: integer (nullable = true)\n",
      " |-- stop: integer (nullable = true)\n",
      " |-- lap: integer (nullable = true)\n",
      " |-- time: timestamp (nullable = true)\n",
      " |-- duration: string (nullable = true)\n",
      " |-- milliseconds: integer (nullable = true)\n",
      "\n"
     ]
    }
   ],
   "source": [
    "pit_stops_df.printSchema()"
   ]
  },
  {
   "cell_type": "code",
   "execution_count": 10,
   "id": "a9ae8fbd-55ed-469b-b453-4964e59e1283",
   "metadata": {},
   "outputs": [
    {
     "data": {
      "text/plain": [
       "11371"
      ]
     },
     "execution_count": 10,
     "metadata": {},
     "output_type": "execute_result"
    }
   ],
   "source": [
    "pit_stops_df.count()"
   ]
  },
  {
   "cell_type": "code",
   "execution_count": 11,
   "id": "26bf5bbc-2adf-4413-aa69-f7b403a7ee91",
   "metadata": {},
   "outputs": [
    {
     "name": "stdout",
     "output_type": "stream",
     "text": [
      "+------+--------+----+---+-------------------+--------+------------+\n",
      "|raceId|driverId|stop|lap|               time|duration|milliseconds|\n",
      "+------+--------+----+---+-------------------+--------+------------+\n",
      "|   841|     153|   1|  1|2025-04-27 17:05:23|  26.898|       26898|\n",
      "|   841|      30|   1|  1|2025-04-27 17:05:52|  25.021|       25021|\n",
      "|   841|      17|   1| 11|2025-04-27 17:20:48|  23.426|       23426|\n",
      "|   841|       4|   1| 12|2025-04-27 17:22:34|  23.251|       23251|\n",
      "|   841|      13|   1| 13|2025-04-27 17:24:10|  23.842|       23842|\n",
      "+------+--------+----+---+-------------------+--------+------------+\n",
      "only showing top 5 rows\n",
      "\n"
     ]
    }
   ],
   "source": [
    "pit_stops_df.show(5)"
   ]
  },
  {
   "cell_type": "code",
   "execution_count": 15,
   "id": "6da1b77f-3958-4703-a64e-1573ee88dc32",
   "metadata": {},
   "outputs": [
    {
     "name": "stdout",
     "output_type": "stream",
     "text": [
      "False\n"
     ]
    }
   ],
   "source": [
    "has_nulls(pit_stops_df)"
   ]
  },
  {
   "cell_type": "code",
   "execution_count": 16,
   "id": "818ae777-3d07-434e-bcc5-8c0a3c6048ef",
   "metadata": {},
   "outputs": [
    {
     "data": {
      "text/plain": [
       "False"
      ]
     },
     "execution_count": 16,
     "metadata": {},
     "output_type": "execute_result"
    }
   ],
   "source": [
    "has_duplicates(pit_stops_df)"
   ]
  },
  {
   "cell_type": "code",
   "execution_count": 17,
   "id": "f9c73985-7b65-4df8-b56f-aeec46be7ef9",
   "metadata": {},
   "outputs": [
    {
     "name": "stdout",
     "output_type": "stream",
     "text": [
      "+-------+------------------+\n",
      "|summary|               lap|\n",
      "+-------+------------------+\n",
      "|  count|             11371|\n",
      "|   mean| 25.38738897194618|\n",
      "| stddev|14.831497277230124|\n",
      "|    min|                 1|\n",
      "|    max|                78|\n",
      "+-------+------------------+\n",
      "\n",
      "+-------+------------------+\n",
      "|summary|              stop|\n",
      "+-------+------------------+\n",
      "|  count|             11371|\n",
      "|   mean|1.7879693958315013|\n",
      "| stddev|1.5214616581601763|\n",
      "|    min|                 1|\n",
      "|    max|                70|\n",
      "+-------+------------------+\n",
      "\n"
     ]
    }
   ],
   "source": [
    "pit_stops_df.describe(\"lap\").show()\n",
    "pit_stops_df.describe(\"stop\").show()"
   ]
  },
  {
   "cell_type": "markdown",
   "id": "bd290f6f-ad5e-4f82-aa13-84b2741c427f",
   "metadata": {},
   "source": [
    "## Stop values\n",
    "\n",
    "The value for the highest stop seems very unlikely. Let's investigate."
   ]
  },
  {
   "cell_type": "code",
   "execution_count": 18,
   "id": "8783c71e-d284-43a7-98de-bc0704733da3",
   "metadata": {},
   "outputs": [
    {
     "name": "stdout",
     "output_type": "stream",
     "text": [
      "+------+--------+----+---+-------------------+--------+------------+\n",
      "|raceId|driverId|stop|lap|               time|duration|milliseconds|\n",
      "+------+--------+----+---+-------------------+--------+------------+\n",
      "|  1128|     822|  15|  2|2025-04-27 16:04:57|  24.239|       24239|\n",
      "|  1128|     840|  42|  2|2025-04-27 16:41:05|  24.132|       24132|\n",
      "|  1128|     840|  48|  3|2025-04-27 16:49:27|  28.211|       28211|\n",
      "|  1128|       1|  51|  2|2025-04-27 16:52:10|  24.232|       24232|\n",
      "|  1128|     830|  52|  2|2025-04-27 16:53:26|  23.813|       23813|\n",
      "|  1128|     858|  57|  2|2025-04-27 17:01:43|  24.384|       24384|\n",
      "|  1128|     855|  70|  2|2025-04-27 17:19:04|  24.367|       24367|\n",
      "+------+--------+----+---+-------------------+--------+------------+\n",
      "\n"
     ]
    }
   ],
   "source": [
    "pit_stops_df.where(pit_stops_df.stop > 10).show()"
   ]
  },
  {
   "cell_type": "code",
   "execution_count": 19,
   "id": "d90972b4-3f66-4db0-af2f-d0919daa0a79",
   "metadata": {},
   "outputs": [
    {
     "name": "stdout",
     "output_type": "stream",
     "text": [
      "+---+----+--------+-----------------+----------+\n",
      "|lap|stop|driverId|             name|      date|\n",
      "+---+----+--------+-----------------+----------+\n",
      "|  2|  15|     822|Monaco Grand Prix|2024-05-26|\n",
      "|  2|  42|     840|Monaco Grand Prix|2024-05-26|\n",
      "|  3|  48|     840|Monaco Grand Prix|2024-05-26|\n",
      "|  2|  51|       1|Monaco Grand Prix|2024-05-26|\n",
      "|  2|  52|     830|Monaco Grand Prix|2024-05-26|\n",
      "|  2|  57|     858|Monaco Grand Prix|2024-05-26|\n",
      "|  2|  70|     855|Monaco Grand Prix|2024-05-26|\n",
      "+---+----+--------+-----------------+----------+\n",
      "\n"
     ]
    }
   ],
   "source": [
    "races_df = spark.read.parquet(f\"/f1/data/races.parquet\")\n",
    "races_df.join(pit_stops_df, \n",
    "               races_df.raceId == pit_stops_df.raceId, \n",
    "               \"inner\").where(pit_stops_df.stop > 10).select(pit_stops_df.lap, pit_stops_df.stop, pit_stops_df.driverId, races_df.name, races_df.date).show()"
   ]
  },
  {
   "cell_type": "code",
   "execution_count": 20,
   "id": "2e732457-5edf-4891-9a28-3ded62770173",
   "metadata": {},
   "outputs": [
    {
     "name": "stdout",
     "output_type": "stream",
     "text": [
      "+---+----+--------+-----------------+----------+\n",
      "|lap|stop|driverId|             name|      date|\n",
      "+---+----+--------+-----------------+----------+\n",
      "|  1|   1|       1|Monaco Grand Prix|2024-05-26|\n",
      "|  2|  51|       1|Monaco Grand Prix|2024-05-26|\n",
      "+---+----+--------+-----------------+----------+\n",
      "\n"
     ]
    }
   ],
   "source": [
    "races_df.join(pit_stops_df, \n",
    "               races_df.raceId == pit_stops_df.raceId, \n",
    "               \"inner\").where((races_df.raceId == 1128) & (pit_stops_df.driverId == 1)).select(pit_stops_df.lap, pit_stops_df.stop, pit_stops_df.driverId, races_df.name, races_df.date).show()"
   ]
  },
  {
   "cell_type": "markdown",
   "id": "eba25dc4-0d81-4deb-8fd8-022322db807c",
   "metadata": {},
   "source": [
    "Based on the two queries above it seems like the stop and the lap value should be switched. All of the pitstops can be seen here: https://www.formula1.com/en/results/2024/races/1236/monaco/pit-stop-summary\n",
    "\n",
    "All entries for this specifc race will be investigated and corrected where necessary with the following steps:\n",
    "1. Count the amount of stops in lap 1, this should be 16.\n",
    "2. Check all stops above 1, as these might not be correct.\n",
    "3. Find the threshold of stop where the values were mixed up and swap the values."
   ]
  },
  {
   "cell_type": "code",
   "execution_count": 21,
   "id": "56bf9083-c6e0-455f-adce-dbb1f7ad73c2",
   "metadata": {},
   "outputs": [
    {
     "data": {
      "text/plain": [
       "16"
      ]
     },
     "execution_count": 21,
     "metadata": {},
     "output_type": "execute_result"
    }
   ],
   "source": [
    "races_df.join(pit_stops_df, \n",
    "               races_df.raceId == pit_stops_df.raceId, \n",
    "               \"inner\").where((races_df.raceId == 1128) & (pit_stops_df.stop == 1)).select(pit_stops_df.lap, pit_stops_df.stop, pit_stops_df.driverId, races_df.name, races_df.date).count()\n"
   ]
  },
  {
   "cell_type": "code",
   "execution_count": 22,
   "id": "57854851-23c5-456a-9890-b22eb9514cee",
   "metadata": {},
   "outputs": [
    {
     "name": "stdout",
     "output_type": "stream",
     "text": [
      "+---+----+--------+-----------------+----------+\n",
      "|lap|stop|driverId|             name|      date|\n",
      "+---+----+--------+-----------------+----------+\n",
      "|  2|  15|     822|Monaco Grand Prix|2024-05-26|\n",
      "|  2|  42|     840|Monaco Grand Prix|2024-05-26|\n",
      "|  3|  48|     840|Monaco Grand Prix|2024-05-26|\n",
      "|  2|  51|       1|Monaco Grand Prix|2024-05-26|\n",
      "|  2|  52|     830|Monaco Grand Prix|2024-05-26|\n",
      "|  2|  57|     858|Monaco Grand Prix|2024-05-26|\n",
      "|  2|  70|     855|Monaco Grand Prix|2024-05-26|\n",
      "+---+----+--------+-----------------+----------+\n",
      "\n"
     ]
    }
   ],
   "source": [
    "races_df.join(pit_stops_df, \n",
    "               races_df.raceId == pit_stops_df.raceId, \n",
    "               \"inner\").where((races_df.raceId == 1128) & (pit_stops_df.stop > 1)).select(pit_stops_df.lap, pit_stops_df.stop, pit_stops_df.driverId, races_df.name, races_df.date).show()"
   ]
  },
  {
   "cell_type": "code",
   "execution_count": 23,
   "id": "9ad58621-89dd-45ec-b1b8-53c244aa7f06",
   "metadata": {},
   "outputs": [
    {
     "name": "stdout",
     "output_type": "stream",
     "text": [
      "+------+--------+-------------------+---------+------------+----+---+\n",
      "|raceId|driverId|               time| duration|milliseconds|stop|lap|\n",
      "+------+--------+-------------------+---------+------------+----+---+\n",
      "|  1128|     840|2025-04-27 16:49:27|   28.211|       28211|   3| 48|\n",
      "|  1128|     822|2025-04-27 16:04:57|   24.239|       24239|   2| 15|\n",
      "|  1128|     840|2025-04-27 16:41:05|   24.132|       24132|   2| 42|\n",
      "|  1128|       1|2025-04-27 16:52:10|   24.232|       24232|   2| 51|\n",
      "|  1128|     830|2025-04-27 16:53:26|   23.813|       23813|   2| 52|\n",
      "|  1128|     858|2025-04-27 17:01:43|   24.384|       24384|   2| 57|\n",
      "|  1128|     855|2025-04-27 17:19:04|   24.367|       24367|   2| 70|\n",
      "|  1128|     844|2025-04-27 15:04:50|39:18.026|     2358026|   1|  1|\n",
      "|  1128|     857|2025-04-27 15:04:52|39:17.645|     2357645|   1|  1|\n",
      "|  1128|     846|2025-04-27 15:04:54|39:25.538|     2365538|   1|  1|\n",
      "|  1128|     847|2025-04-27 15:04:56|39:29.363|     2369363|   1|  1|\n",
      "|  1128|     830|2025-04-27 15:04:57|39:32.670|     2372670|   1|  1|\n",
      "|  1128|       1|2025-04-27 15:05:00|39:35.369|     2375369|   1|  1|\n",
      "|  1128|     852|2025-04-27 15:05:02|39:37.564|     2377564|   1|  1|\n",
      "|  1128|     848|2025-04-27 15:05:05|39:41.390|     2381390|   1|  1|\n",
      "|  1128|     842|2025-04-27 15:05:07|39:41.893|     2381893|   1|  1|\n",
      "|  1128|     840|2025-04-27 15:05:10|39:43.588|     2383588|   1|  1|\n",
      "|  1128|     817|2025-04-27 15:05:13|39:45.823|     2385823|   1|  1|\n",
      "|  1128|       4|2025-04-27 15:05:15|39:49.467|     2389467|   1|  1|\n",
      "|  1128|     858|2025-04-27 15:05:16|39:51.600|     2391600|   1|  1|\n",
      "+------+--------+-------------------+---------+------------+----+---+\n",
      "only showing top 20 rows\n",
      "\n"
     ]
    }
   ],
   "source": [
    "from pyspark.sql.functions import *\n",
    "\n",
    "columns = [e for e in pit_stops_df.columns if e not in [\"stop\", \"lap\"]]\n",
    "\n",
    "pit_stops_above_1_df = pit_stops_df.filter((pit_stops_df.stop > 1)&(pit_stops_df.raceId == 1128)).select(\n",
    "    *columns,\n",
    "    col(\"lap\").alias(\"stop\"),\n",
    "    col(\"stop\").alias(\"lap\")\n",
    ")\n",
    "pit_stops_df = pit_stops_df.filter((pit_stops_df.stop == 1) & (pit_stops_df.raceId == 1128) | (pit_stops_df.raceId != 1128)).select(\n",
    "    *columns,\n",
    "    \"stop\",\n",
    "    \"lap\"\n",
    ")\n",
    "\n",
    "pit_stops_df = pit_stops_df.union(pit_stops_above_1_df)\n",
    "pit_stops_df.where(pit_stops_df.raceId == 1128).sort(\"stop\", ascending=False).show()"
   ]
  },
  {
   "cell_type": "code",
   "execution_count": 24,
   "id": "c3daef7a-f0bb-4d2e-9b28-fe5f700680d2",
   "metadata": {},
   "outputs": [
    {
     "name": "stdout",
     "output_type": "stream",
     "text": [
      "+-------+------------------+\n",
      "|summary|              stop|\n",
      "+-------+------------------+\n",
      "|  count|             11371|\n",
      "|   mean| 1.759827631694662|\n",
      "| stddev|0.9256003904836632|\n",
      "|    min|                 1|\n",
      "|    max|                 7|\n",
      "+-------+------------------+\n",
      "\n"
     ]
    }
   ],
   "source": [
    "pit_stops_df.describe(\"stop\").show()"
   ]
  },
  {
   "cell_type": "code",
   "execution_count": 70,
   "id": "0069b068-fc88-4f38-957f-c734e64ee7f4",
   "metadata": {},
   "outputs": [
    {
     "data": {
      "text/plain": [
       "11371"
      ]
     },
     "execution_count": 70,
     "metadata": {},
     "output_type": "execute_result"
    }
   ],
   "source": [
    "pit_stops_df.count()"
   ]
  },
  {
   "cell_type": "markdown",
   "id": "dd5cdce5-567f-4253-a5e0-ab8ba66aba88",
   "metadata": {},
   "source": [
    "## Pit stop duration\n",
    "\n",
    "Let's investigate the values for the pitstop durations using the milliseconds column."
   ]
  },
  {
   "cell_type": "markdown",
   "id": "bfd62f01-f877-4c85-a968-69222482c7a4",
   "metadata": {},
   "source": [
    "Outliers should be removed. A pit stop can take a long time due to penalties or other issues but in this part only the pitstops under normal conditions interest us. First let's figure out what outliers are and how the values changed over the years."
   ]
  },
  {
   "cell_type": "code",
   "execution_count": 28,
   "id": "3452fc4f-388d-4e3c-abfa-73b0ea0201f4",
   "metadata": {},
   "outputs": [
    {
     "name": "stdout",
     "output_type": "stream",
     "text": [
      "+------+-------------+-----------------+\n",
      "|raceId|outlier_count|non_outlier_count|\n",
      "+------+-------------+-----------------+\n",
      "|   864|            3|               64|\n",
      "|   958|            3|               42|\n",
      "|   881|            3|               70|\n",
      "|   886|            3|               41|\n",
      "|   911|            3|               43|\n",
      "+------+-------------+-----------------+\n",
      "only showing top 5 rows\n",
      "\n"
     ]
    }
   ],
   "source": [
    "from pyspark.sql.functions import stddev, abs, count, col\n",
    "from pyspark.sql.window import Window\n",
    "\n",
    "threshold = 3\n",
    "\n",
    "window_spec = Window.partitionBy(\"raceId\")\n",
    "\n",
    "df_with_stats = pit_stops_df.withColumn(\"mean_ms\", avg(\"milliseconds\").over(window_spec)) \\\n",
    "                   .withColumn(\"stddev_ms\", stddev(\"milliseconds\").over(window_spec))\n",
    "\n",
    "df_with_zscore = df_with_stats.withColumn(\n",
    "    \"z_score\", abs((col(\"milliseconds\") - col(\"mean_ms\")) / col(\"stddev_ms\"))\n",
    ")\n",
    "\n",
    "outlier_counts = df_with_zscore.filter(col(\"z_score\") > threshold) \\\n",
    "                               .groupBy(\"raceId\") \\\n",
    "                               .agg(count(\"*\").alias(\"outlier_count\"))\n",
    "\n",
    "non_outlier_counts = df_with_zscore.filter(col(\"z_score\") <= threshold) \\\n",
    "                                   .groupBy(\"raceId\") \\\n",
    "                                   .agg(count(\"*\").alias(\"non_outlier_count\"))\n",
    "\n",
    "outlier_summary_df = outlier_counts.join(non_outlier_counts, \"raceId\", \"fullouter\") \\\n",
    "                                   .fillna(0) \\\n",
    "                                   .orderBy(\"raceId\")\n",
    "\n",
    "outlier_summary_df.sort(\"outlier_count\", ascending=False).show(5)"
   ]
  },
  {
   "cell_type": "code",
   "execution_count": 33,
   "id": "469350e6-a58a-48d2-b48e-f70f83254efc",
   "metadata": {},
   "outputs": [
    {
     "name": "stdout",
     "output_type": "stream",
     "text": [
      "+------+--------+-------------------+--------+------------+----+---+\n",
      "|raceId|driverId|               time|duration|milliseconds|stop|lap|\n",
      "+------+--------+-------------------+--------+------------+----+---+\n",
      "|   841|     153|2025-04-27 17:05:23|  26.898|       26898|   1|  1|\n",
      "|   841|      30|2025-04-27 17:05:52|  25.021|       25021|   1|  1|\n",
      "|   841|      17|2025-04-27 17:20:48|  23.426|       23426|   1| 11|\n",
      "|   841|       4|2025-04-27 17:22:34|  23.251|       23251|   1| 12|\n",
      "|   841|      13|2025-04-27 17:24:10|  23.842|       23842|   1| 13|\n",
      "+------+--------+-------------------+--------+------------+----+---+\n",
      "only showing top 5 rows\n",
      "\n"
     ]
    }
   ],
   "source": [
    "window_spec = Window.partitionBy(\"raceId\")\n",
    "\n",
    "df_with_stats = pit_stops_df.withColumn(\"mean_ms\", avg(\"milliseconds\").over(window_spec)) \\\n",
    "                   .withColumn(\"stddev_ms\", stddev(\"milliseconds\").over(window_spec))\n",
    "\n",
    "df_with_zscore = df_with_stats.withColumn(\n",
    "    \"z_score\", abs((col(\"milliseconds\") - col(\"mean_ms\")) / col(\"stddev_ms\"))\n",
    ")\n",
    "\n",
    "\n",
    "pit_stops_without_outliers_df = df_with_zscore.filter(col(\"z_score\") <= threshold).drop(\"mean_ms\", \"stddev_ms\", \"z_score\")\n",
    "pit_stops_without_outliers_df.show(5)"
   ]
  },
  {
   "cell_type": "code",
   "execution_count": 245,
   "id": "f865462d-4287-420d-b96c-e0fabe96291e",
   "metadata": {},
   "outputs": [
    {
     "name": "stdout",
     "output_type": "stream",
     "text": [
      "+-------+-----------------+\n",
      "|summary|     milliseconds|\n",
      "+-------+-----------------+\n",
      "|  count|            11094|\n",
      "|   mean|85957.24445646295|\n",
      "| stddev|313160.7527590613|\n",
      "|    min|            12897|\n",
      "|    max|          3069017|\n",
      "+-------+-----------------+\n",
      "\n"
     ]
    }
   ],
   "source": [
    "pit_stops_without_outliers_df.describe(\"milliseconds\").show()"
   ]
  },
  {
   "cell_type": "markdown",
   "id": "708e5780-2bd2-465e-b168-9d01a5dbdfd1",
   "metadata": {},
   "source": [
    "These max values seem impossible.\n",
    "\n",
    "First we check if there is possibly just one weird value."
   ]
  },
  {
   "cell_type": "code",
   "execution_count": 34,
   "id": "c39d8152-ba7a-4aa3-a0ab-de1062997608",
   "metadata": {},
   "outputs": [
    {
     "name": "stdout",
     "output_type": "stream",
     "text": [
      "+-------+-----------------+\n",
      "|summary|     milliseconds|\n",
      "+-------+-----------------+\n",
      "|  count|            11093|\n",
      "|   mean|85688.33074912107|\n",
      "| stddev|311891.2763204656|\n",
      "|    min|            12897|\n",
      "|    max|          3067301|\n",
      "+-------+-----------------+\n",
      "\n"
     ]
    }
   ],
   "source": [
    "pit_stops_without_outliers_df.filter(pit_stops_without_outliers_df.milliseconds != 3069017).describe(\"milliseconds\").show()"
   ]
  },
  {
   "cell_type": "markdown",
   "id": "0f73fd79-ccfa-4a90-a14d-27783fd2ceee",
   "metadata": {},
   "source": [
    "There seem to be several values that are very high. Let's have a look at them."
   ]
  },
  {
   "cell_type": "code",
   "execution_count": 35,
   "id": "d203993e-c6ff-4220-85c6-7fe13ec64ff0",
   "metadata": {},
   "outputs": [
    {
     "name": "stdout",
     "output_type": "stream",
     "text": [
      "+------+--------+-------------------+---------+------------+----+---+\n",
      "|raceId|driverId|               time| duration|milliseconds|stop|lap|\n",
      "+------+--------+-------------------+---------+------------+----+---+\n",
      "|  1083|      20|2025-04-27 15:06:00|51:07.301|     3067301|   1|  1|\n",
      "+------+--------+-------------------+---------+------------+----+---+\n",
      "\n",
      "+------+--------+-------------------+---------+------------+----+---+\n",
      "|raceId|driverId|               time| duration|milliseconds|stop|lap|\n",
      "+------+--------+-------------------+---------+------------+----+---+\n",
      "|  1083|     840|2025-04-27 15:06:02|51:09.017|     3069017|   1|  1|\n",
      "+------+--------+-------------------+---------+------------+----+---+\n",
      "\n"
     ]
    }
   ],
   "source": [
    "pit_stops_without_outliers_df.filter(pit_stops_without_outliers_df.milliseconds == 3067301).show()\n",
    "pit_stops_without_outliers_df.filter(pit_stops_without_outliers_df.milliseconds == 3069017).show()"
   ]
  },
  {
   "cell_type": "code",
   "execution_count": 36,
   "id": "b14765ca-0f99-4bbd-b751-8d50766cb619",
   "metadata": {},
   "outputs": [
    {
     "name": "stdout",
     "output_type": "stream",
     "text": [
      "+------+----+-----+---------+------------------+----------+--------+--------------------+----------+--------+----------+--------+----------+--------+----------+----------+-----------+-----------+\n",
      "|raceId|year|round|circuitId|              name|      date|    time|                 url|  fp1_date|fp1_time|  fp2_date|fp2_time|  fp3_date|fp3_time|quali_date|quali_time|sprint_date|sprint_time|\n",
      "+------+----+-----+---------+------------------+----------+--------+--------------------+----------+--------+----------+--------+----------+--------+----------+----------+-----------+-----------+\n",
      "|  1083|2022|   10|        9|British Grand Prix|2022-07-03|14:00:00|http://en.wikiped...|2022-07-01|12:00:00|2022-07-01|15:00:00|2022-07-02|11:00:00|2022-07-02|  14:00:00|         \\N|         \\N|\n",
      "+------+----+-----+---------+------------------+----------+--------+--------------------+----------+--------+----------+--------+----------+--------+----------+----------+-----------+-----------+\n",
      "\n"
     ]
    }
   ],
   "source": [
    "races_df.filter(races_df.raceId == 1083).show()"
   ]
  },
  {
   "cell_type": "code",
   "execution_count": 37,
   "id": "b91930f6-adf0-4a55-90b5-28426393895c",
   "metadata": {},
   "outputs": [
    {
     "name": "stdout",
     "output_type": "stream",
     "text": [
      "+------+--------+-------------------+---------+------------+----+---+\n",
      "|raceId|driverId|               time| duration|milliseconds|stop|lap|\n",
      "+------+--------+-------------------+---------+------------+----+---+\n",
      "|  1083|     830|2025-04-27 15:05:31|50:37.323|     3037323|   1|  1|\n",
      "|  1083|     832|2025-04-27 15:05:33|50:31.752|     3031752|   1|  1|\n",
      "|  1083|       1|2025-04-27 15:05:36|50:46.888|     3046888|   1|  1|\n",
      "|  1083|     844|2025-04-27 15:05:37|50:36.360|     3036360|   1|  1|\n",
      "|  1083|       4|2025-04-27 15:05:41|50:55.700|     3055700|   1|  1|\n",
      "|  1083|     815|2025-04-27 15:05:43|50:34.772|     3034772|   1|  1|\n",
      "|  1083|     846|2025-04-27 15:05:46|50:43.215|     3043215|   1|  1|\n",
      "|  1083|     849|2025-04-27 15:05:48|50:51.904|     3051904|   1|  1|\n",
      "|  1083|     822|2025-04-27 15:05:50|50:55.732|     3055732|   1|  1|\n",
      "|  1083|     817|2025-04-27 15:05:52|51:03.314|     3063314|   1|  1|\n",
      "|  1083|     842|2025-04-27 15:05:55|50:48.950|     3048950|   1|  1|\n",
      "|  1083|     825|2025-04-27 15:05:57|51:03.613|     3063613|   1|  1|\n",
      "|  1083|      20|2025-04-27 15:06:00|51:07.301|     3067301|   1|  1|\n",
      "|  1083|     840|2025-04-27 15:06:02|51:09.017|     3069017|   1|  1|\n",
      "|  1083|     854|2025-04-27 15:06:04|51:05.174|     3065174|   1|  1|\n",
      "|  1083|     852|2025-04-27 15:06:40|50:11.861|     3011861|   1|  1|\n",
      "|  1083|     839|2025-04-27 15:07:49|49:10.760|     2950760|   1|  1|\n",
      "|  1083|     815|2025-04-27 16:04:31|   37.302|       37302|   2|  5|\n",
      "|  1083|      20|2025-04-27 16:06:13|   29.846|       29846|   2|  6|\n",
      "|  1083|     830|2025-04-27 16:15:21|   29.395|       29395|   2| 12|\n",
      "+------+--------+-------------------+---------+------------+----+---+\n",
      "only showing top 20 rows\n",
      "\n"
     ]
    }
   ],
   "source": [
    "pit_stops_without_outliers_df.filter(pit_stops_without_outliers_df.raceId == 1083).show()"
   ]
  },
  {
   "cell_type": "markdown",
   "id": "84eb38c0-6899-4fba-a63b-e887d31382f1",
   "metadata": {},
   "source": [
    "Comparing these results with the results from the official site (https://www.formula1.com/en/results/2022/races/1114/great-britain/pit-stop-summary), it is visible, that both valuesets match.\n",
    "\n",
    "These values are not interpretable for the team. Let's check how the distribution of the values is like and if we could possible just remove these values."
   ]
  },
  {
   "cell_type": "code",
   "execution_count": 38,
   "id": "9ce0843b-240d-4c35-b68b-13ab87ccb035",
   "metadata": {},
   "outputs": [
    {
     "data": {
      "image/png": "[encoded data removed]",
      "text/plain": [
       "<Figure size 800x600 with 1 Axes>"
      ]
     },
     "metadata": {},
     "output_type": "display_data"
    }
   ],
   "source": [
    "import matplotlib.pyplot as plt\n",
    "from pyspark.sql import functions as F\n",
    "\n",
    "pit_stop_times = pit_stops_without_outliers_df.select(\"milliseconds\").collect()\n",
    "pit_stop_times_ms = [row.milliseconds for row in pit_stop_times if row.milliseconds is not None]\n",
    "\n",
    "plt.figure(figsize=(8, 6))\n",
    "plt.boxplot(pit_stop_times_ms, vert=False)\n",
    "plt.xlabel(\"Pit Stop Duration (milliseconds)\")\n",
    "plt.title(\"Boxplot of Pit Stop Durations\")\n",
    "plt.show()\n"
   ]
  },
  {
   "cell_type": "markdown",
   "id": "112ce0c6-1bb9-47a6-814e-5b9a7f2fb246",
   "metadata": {},
   "source": [
    "A full pitstop (including entering and exiting the pitlane) usually takes somewhere between 20 and 25 seconds. Using the boxplot to create a cutoff, it seems like all values that are in or above the cluster at around 500000ms (=500s) seem to be wrong values.\n",
    "\n",
    "As there is quite thegab between the 'normal' values and the wrong values, the cutoff will be set to 300000."
   ]
  },
  {
   "cell_type": "code",
   "execution_count": 39,
   "id": "6e14f00a-340c-4a92-af19-bd26850b31db",
   "metadata": {},
   "outputs": [
    {
     "name": "stdout",
     "output_type": "stream",
     "text": [
      "+-------+------------------+\n",
      "|summary|      milliseconds|\n",
      "+-------+------------------+\n",
      "|  count|               475|\n",
      "|   mean|1465743.5031578948|\n",
      "| stddev| 549111.0949440326|\n",
      "|    min|            387399|\n",
      "|    max|           3069017|\n",
      "+-------+------------------+\n",
      "\n",
      "+-------+------------------+\n",
      "|summary|      milliseconds|\n",
      "+-------+------------------+\n",
      "|  count|             10619|\n",
      "|   mean|24237.828985780205|\n",
      "| stddev| 4385.253734099694|\n",
      "|    min|             12897|\n",
      "|    max|             87084|\n",
      "+-------+------------------+\n",
      "\n"
     ]
    }
   ],
   "source": [
    "pit_stops_without_outliers_big_df = pit_stops_without_outliers_df.filter(pit_stops_without_outliers_df.milliseconds > 300000)\n",
    "pit_stops_without_outliers_big_df.describe(\"milliseconds\").show()\n",
    "\n",
    "pit_stops_without_outliers_small_df = pit_stops_without_outliers_df.filter(pit_stops_without_outliers_df.milliseconds < 300000)\n",
    "pit_stops_without_outliers_small_df.describe(\"milliseconds\").show()"
   ]
  },
  {
   "cell_type": "code",
   "execution_count": 40,
   "id": "d0a0edcd-94e9-4714-9ba9-fde8d1e127be",
   "metadata": {},
   "outputs": [
    {
     "data": {
      "text/plain": [
       "475"
      ]
     },
     "execution_count": 40,
     "metadata": {},
     "output_type": "execute_result"
    }
   ],
   "source": [
    "pit_stops_without_outliers_big_df.count()"
   ]
  },
  {
   "cell_type": "code",
   "execution_count": 41,
   "id": "b38c5c63-606f-4c92-b087-d41359413126",
   "metadata": {},
   "outputs": [
    {
     "data": {
      "text/plain": [
       "10619"
      ]
     },
     "execution_count": 41,
     "metadata": {},
     "output_type": "execute_result"
    }
   ],
   "source": [
    "pit_stops_without_outliers_small_df.count()"
   ]
  },
  {
   "cell_type": "markdown",
   "id": "d7677915-c298-4f1f-a81a-08f31bb96ea8",
   "metadata": {},
   "source": [
    "Eventhough it is definitely not ideal, the values above 300'000 are in a clear minority and will be removed for this project. In a real scenario this would have to be investigated further to find a possible pattern in the values that are missing and act accordingly."
   ]
  },
  {
   "cell_type": "code",
   "execution_count": 42,
   "id": "62451094-aef0-4c05-9a62-3afce9288253",
   "metadata": {},
   "outputs": [],
   "source": [
    "pit_stops_df = pit_stops_without_outliers_small_df"
   ]
  },
  {
   "cell_type": "markdown",
   "id": "30006adc-16da-47bf-96d9-0d06da8637d8",
   "metadata": {},
   "source": [
    "We want to create a new parquet file with the modifications we made."
   ]
  },
  {
   "cell_type": "code",
   "execution_count": 43,
   "id": "c8db0906-31f3-4065-8e85-222812e88fd2",
   "metadata": {},
   "outputs": [],
   "source": [
    "pit_stops_df.write.mode('overwrite').parquet(f\"/f1/data/cleaned_pit_stops.parquet\")"
   ]
  },
  {
   "cell_type": "markdown",
   "id": "0ad8e3a8-a558-4005-8907-4868aa5babc2",
   "metadata": {},
   "source": [
    "# Qualifying"
   ]
  },
  {
   "cell_type": "code",
   "execution_count": 507,
   "id": "97e60ae0-c37b-41a2-8ae1-aec13f7e25be",
   "metadata": {},
   "outputs": [],
   "source": [
    "qualifying_df = spark.read.parquet(f\"/f1/data/qualifying.parquet\")"
   ]
  },
  {
   "cell_type": "code",
   "execution_count": 508,
   "id": "417827e4-390e-4a82-9027-e5bcdb21c731",
   "metadata": {},
   "outputs": [
    {
     "name": "stdout",
     "output_type": "stream",
     "text": [
      "root\n",
      " |-- qualifyId: integer (nullable = true)\n",
      " |-- raceId: integer (nullable = true)\n",
      " |-- driverId: integer (nullable = true)\n",
      " |-- constructorId: integer (nullable = true)\n",
      " |-- number: integer (nullable = true)\n",
      " |-- position: integer (nullable = true)\n",
      " |-- q1: string (nullable = true)\n",
      " |-- q2: string (nullable = true)\n",
      " |-- q3: string (nullable = true)\n",
      "\n"
     ]
    }
   ],
   "source": [
    "qualifying_df.printSchema()"
   ]
  },
  {
   "cell_type": "markdown",
   "id": "acf403f6-f6a2-4d4b-a9ce-3c744900085e",
   "metadata": {},
   "source": [
    "The number of the driver is redundant as there is the driverId as well."
   ]
  },
  {
   "cell_type": "code",
   "execution_count": 509,
   "id": "ea262bb4-ebcf-484b-bb07-9c51da23a1ca",
   "metadata": {},
   "outputs": [
    {
     "name": "stdout",
     "output_type": "stream",
     "text": [
      "root\n",
      " |-- qualifyId: integer (nullable = true)\n",
      " |-- raceId: integer (nullable = true)\n",
      " |-- driverId: integer (nullable = true)\n",
      " |-- constructorId: integer (nullable = true)\n",
      " |-- position: integer (nullable = true)\n",
      " |-- q1: string (nullable = true)\n",
      " |-- q2: string (nullable = true)\n",
      " |-- q3: string (nullable = true)\n",
      "\n"
     ]
    }
   ],
   "source": [
    "qualifying_df = qualifying_df.drop(\"number\")\n",
    "qualifying_df.printSchema()"
   ]
  },
  {
   "cell_type": "code",
   "execution_count": 510,
   "id": "3c4c9841-27c9-41c7-aeea-94def2064387",
   "metadata": {},
   "outputs": [
    {
     "data": {
      "text/plain": [
       "10494"
      ]
     },
     "execution_count": 510,
     "metadata": {},
     "output_type": "execute_result"
    }
   ],
   "source": [
    "qualifying_df.count()"
   ]
  },
  {
   "cell_type": "code",
   "execution_count": 511,
   "id": "b2854e2b-9358-49ea-8ac6-f61118147ab1",
   "metadata": {},
   "outputs": [
    {
     "name": "stdout",
     "output_type": "stream",
     "text": [
      "+---------+------+--------+-------------+--------+--------+--------+--------+\n",
      "|qualifyId|raceId|driverId|constructorId|position|      q1|      q2|      q3|\n",
      "+---------+------+--------+-------------+--------+--------+--------+--------+\n",
      "|        1|    18|       1|            1|       1|1:26.572|1:25.187|1:26.714|\n",
      "|        2|    18|       9|            2|       2|1:26.103|1:25.315|1:26.869|\n",
      "|        3|    18|       5|            1|       3|1:25.664|1:25.452|1:27.079|\n",
      "|        4|    18|      13|            6|       4|1:25.994|1:25.691|1:27.178|\n",
      "|        5|    18|       2|            2|       5|1:25.960|1:25.518|1:27.236|\n",
      "+---------+------+--------+-------------+--------+--------+--------+--------+\n",
      "only showing top 5 rows\n",
      "\n"
     ]
    }
   ],
   "source": [
    "qualifying_df.show(5)"
   ]
  },
  {
   "cell_type": "code",
   "execution_count": 512,
   "id": "6beae6a4-156a-433f-8c15-3162cdf77812",
   "metadata": {},
   "outputs": [
    {
     "name": "stdout",
     "output_type": "stream",
     "text": [
      "+-------+------------------+\n",
      "|summary|          position|\n",
      "+-------+------------------+\n",
      "|  count|             10494|\n",
      "|   mean|11.195826186392225|\n",
      "| stddev|6.2603736624803785|\n",
      "|    min|                 1|\n",
      "|    max|                28|\n",
      "+-------+------------------+\n",
      "\n"
     ]
    }
   ],
   "source": [
    "qualifying_df.describe(\"position\").show()"
   ]
  },
  {
   "cell_type": "markdown",
   "id": "968b4abf-46ba-47b4-bff6-bc51a7652008",
   "metadata": {},
   "source": [
    "Since the highest position is only 28 it seems like the qualifying has not been done since the start. Let's double check."
   ]
  },
  {
   "cell_type": "code",
   "execution_count": 513,
   "id": "5a3e6e5a-7c73-4481-84be-897b5063ef73",
   "metadata": {},
   "outputs": [
    {
     "name": "stdout",
     "output_type": "stream",
     "text": [
      "+----+------+\n",
      "|year|raceId|\n",
      "+----+------+\n",
      "|1994|   257|\n",
      "+----+------+\n",
      "only showing top 1 row\n",
      "\n"
     ]
    }
   ],
   "source": [
    "races_df = spark.read.parquet(f\"/f1/data/races.parquet\")\n",
    "joined_races = races_df.join(qualifying_df, \n",
    "               races_df.raceId == qualifying_df.raceId, \n",
    "               \"inner\").orderBy(races_df.year, ascending=True).select(races_df.year, races_df.raceId)\n",
    "joined_races.show(1)"
   ]
  },
  {
   "cell_type": "code",
   "execution_count": 516,
   "id": "cb648e9a-a6f5-4ba7-9a76-f9b21c7a83e1",
   "metadata": {},
   "outputs": [
    {
     "name": "stdout",
     "output_type": "stream",
     "text": [
      "+---------+------+--------+-------------+--------+---+---+---+\n",
      "|qualifyId|raceId|driverId|constructorId|position| q1| q2| q3|\n",
      "+---------+------+--------+-------------+--------+---+---+---+\n",
      "|     2673|   259|      22|           17|      28| \\N| \\N| \\N|\n",
      "+---------+------+--------+-------------+--------+---+---+---+\n",
      "\n"
     ]
    }
   ],
   "source": [
    "qualifying_df.filter(qualifying_df.position == 28).show()"
   ]
  },
  {
   "cell_type": "code",
   "execution_count": 518,
   "id": "92029fef-466b-461e-ac39-bef752589ea0",
   "metadata": {},
   "outputs": [
    {
     "name": "stdout",
     "output_type": "stream",
     "text": [
      "+-----------------+\n",
      "|number_of_drivers|\n",
      "+-----------------+\n",
      "|               28|\n",
      "+-----------------+\n",
      "\n"
     ]
    }
   ],
   "source": [
    "qualifying_df.filter(qualifying_df.raceId == 259) \\\n",
    "    .agg(countDistinct(\"driverId\").alias(\"number_of_drivers\")).show()"
   ]
  },
  {
   "cell_type": "code",
   "execution_count": 444,
   "id": "e55bdc54-d805-4c7f-9429-c3217e976672",
   "metadata": {},
   "outputs": [
    {
     "name": "stdout",
     "output_type": "stream",
     "text": [
      "+--------+-----+\n",
      "|position|count|\n",
      "+--------+-----+\n",
      "|      28|    1|\n",
      "|      27|    1|\n",
      "|      26|   20|\n",
      "|      25|   20|\n",
      "|      24|   82|\n",
      "|      23|   90|\n",
      "|      22|  207|\n",
      "|      21|  215|\n",
      "|      20|  479|\n",
      "|      19|  487|\n",
      "+--------+-----+\n",
      "only showing top 10 rows\n",
      "\n"
     ]
    }
   ],
   "source": [
    "from pyspark.sql.functions import count\n",
    "\n",
    "qualifying_df.groupBy(\"position\").agg(count(\"*\").alias(\"count\")).orderBy(\"count\", ascending=True).show(10)"
   ]
  },
  {
   "cell_type": "code",
   "execution_count": 445,
   "id": "834d1832-e183-4e53-b66a-73cd8db19a88",
   "metadata": {},
   "outputs": [
    {
     "name": "stdout",
     "output_type": "stream",
     "text": [
      "Column 'q2' has 22 null value(s):\n",
      "+---------+------+--------+-------------+--------+--------+----+----+\n",
      "|qualifyId|raceId|driverId|constructorId|position|      q1|  q2|  q3|\n",
      "+---------+------+--------+-------------+--------+--------+----+----+\n",
      "|    10068|  1120|     832|            6|      16|1:24.738|NULL|NULL|\n",
      "|    10069|  1120|     825|          210|      17|1:24.764|NULL|NULL|\n",
      "|    10070|  1120|     822|           51|      18|1:24.788|NULL|NULL|\n",
      "|    10071|  1120|     855|           51|      19|1:25.159|NULL|NULL|\n",
      "|    10107|  1122|     807|          210|      15|1:29.055|NULL|NULL|\n",
      "|    10108|  1122|     822|           15|      16|1:29.179|NULL|NULL|\n",
      "|    10109|  1122|     839|          214|      17|1:29.475|NULL|NULL|\n",
      "|    10110|  1122|     842|          214|      18|1:29.479|NULL|NULL|\n",
      "|    10111|  1122|     858|            3|      19|1:29.526|NULL|NULL|\n",
      "|    10207|  1127|     822|           15|      16|1:16.626|NULL|NULL|\n",
      "|    10208|  1127|     855|           15|      17|1:16.834|NULL|NULL|\n",
      "|    10209|  1127|     825|          210|      18|1:16.854|NULL|NULL|\n",
      "|    10210|  1127|       4|          117|      19|1:16.917|NULL|NULL|\n",
      "|    10366|  1135|     817|          215|      15|1:11.943|NULL|NULL|\n",
      "|    10367|  1135|     839|          214|      16|1:11.995|NULL|NULL|\n",
      "|    10368|  1135|     822|           15|      17|1:12.168|NULL|NULL|\n",
      "|    10369|  1135|     855|           15|      18|1:13.261|NULL|NULL|\n",
      "|    10406|  1137|     817|          215|      15|1:43.547|NULL|NULL|\n",
      "|    10407|  1137|     846|            1|      16|1:43.609|NULL|NULL|\n",
      "|    10408|  1137|     822|           15|      17|1:43.618|NULL|NULL|\n",
      "+---------+------+--------+-------------+--------+--------+----+----+\n",
      "only showing top 20 rows\n",
      "\n",
      "Column 'q3' has 46 null value(s):\n",
      "+---------+------+--------+-------------+--------+--------+--------+----+\n",
      "|qualifyId|raceId|driverId|constructorId|position|      q1|      q2|  q3|\n",
      "+---------+------+--------+-------------+--------+--------+--------+----+\n",
      "|    10063|  1120|       1|          131|      11|1:24.437|1:24.359|NULL|\n",
      "|    10064|  1120|     839|          214|      12|1:24.565|1:24.391|NULL|\n",
      "|    10065|  1120|     840|          117|      13|1:24.405|1:24.422|NULL|\n",
      "|    10066|  1120|     848|            3|      14|1:24.298|1:24.439|NULL|\n",
      "|    10067|  1120|     817|          213|      15|1:24.461|1:24.442|NULL|\n",
      "|    10068|  1120|     832|            6|      16|1:24.738|    NULL|NULL|\n",
      "|    10069|  1120|     825|          210|      17|1:24.764|    NULL|NULL|\n",
      "|    10070|  1120|     822|           51|      18|1:24.788|    NULL|NULL|\n",
      "|    10071|  1120|     855|           51|      19|1:25.159|    NULL|NULL|\n",
      "|    10103|  1122|     860|            6|      11|1:28.984|1:28.642|NULL|\n",
      "|    10104|  1122|     848|            3|      12|1:29.107|1:28.980|NULL|\n",
      "|    10105|  1122|     825|          210|      13|1:29.069|1:29.020|NULL|\n",
      "|    10106|  1122|     817|          215|      14|1:29.065|1:29.025|NULL|\n",
      "|    10107|  1122|     807|          210|      15|1:29.055|    NULL|NULL|\n",
      "|    10108|  1122|     822|           15|      16|1:29.179|    NULL|NULL|\n",
      "|    10109|  1122|     839|          214|      17|1:29.475|    NULL|NULL|\n",
      "|    10110|  1122|     842|          214|      18|1:29.479|    NULL|NULL|\n",
      "|    10111|  1122|     858|            3|      19|1:29.526|    NULL|NULL|\n",
      "|    10202|  1127|     815|            9|      11|1:16.404|1:15.706|NULL|\n",
      "|    10203|  1127|     839|          214|      12|1:16.361|1:15.906|NULL|\n",
      "+---------+------+--------+-------------+--------+--------+--------+----+\n",
      "only showing top 20 rows\n",
      "\n"
     ]
    }
   ],
   "source": [
    "has_nulls(qualifying_df)"
   ]
  },
  {
   "cell_type": "code",
   "execution_count": 446,
   "id": "207af5ed-f9e7-45cb-80a2-9380717afa80",
   "metadata": {},
   "outputs": [
    {
     "data": {
      "text/plain": [
       "False"
      ]
     },
     "execution_count": 446,
     "metadata": {},
     "output_type": "execute_result"
    }
   ],
   "source": [
    "has_duplicates(qualifying_df)"
   ]
  },
  {
   "cell_type": "markdown",
   "id": "93e8f8e4-e528-47c3-8f60-573dfb0feed0",
   "metadata": {},
   "source": [
    "We want to create a new parquet file with the modifications we made."
   ]
  },
  {
   "cell_type": "code",
   "execution_count": 447,
   "id": "f7c056c3-55df-4fee-b3c1-4724befb5287",
   "metadata": {},
   "outputs": [],
   "source": [
    "qualifying_df.write.mode('overwrite').parquet(f\"/f1/data/cleaned_qualifying.parquet\")"
   ]
  },
  {
   "cell_type": "markdown",
   "id": "b87341bc-e83d-44b7-bfe5-4797fc174f5d",
   "metadata": {},
   "source": [
    "# Races"
   ]
  },
  {
   "cell_type": "code",
   "execution_count": 449,
   "id": "fb870b8a-6a9e-405e-a91c-3a0b3d69fd33",
   "metadata": {},
   "outputs": [],
   "source": [
    "races_df = spark.read.parquet(f\"/f1/data/races.parquet\")"
   ]
  },
  {
   "cell_type": "code",
   "execution_count": 450,
   "id": "ec0ceb27-3c3c-443f-9f45-6f50ce78bb18",
   "metadata": {},
   "outputs": [
    {
     "name": "stdout",
     "output_type": "stream",
     "text": [
      "root\n",
      " |-- raceId: integer (nullable = true)\n",
      " |-- year: integer (nullable = true)\n",
      " |-- round: integer (nullable = true)\n",
      " |-- circuitId: integer (nullable = true)\n",
      " |-- name: string (nullable = true)\n",
      " |-- date: date (nullable = true)\n",
      " |-- time: string (nullable = true)\n",
      " |-- url: string (nullable = true)\n",
      " |-- fp1_date: string (nullable = true)\n",
      " |-- fp1_time: string (nullable = true)\n",
      " |-- fp2_date: string (nullable = true)\n",
      " |-- fp2_time: string (nullable = true)\n",
      " |-- fp3_date: string (nullable = true)\n",
      " |-- fp3_time: string (nullable = true)\n",
      " |-- quali_date: string (nullable = true)\n",
      " |-- quali_time: string (nullable = true)\n",
      " |-- sprint_date: string (nullable = true)\n",
      " |-- sprint_time: string (nullable = true)\n",
      "\n"
     ]
    }
   ],
   "source": [
    "races_df.printSchema()"
   ]
  },
  {
   "cell_type": "code",
   "execution_count": 451,
   "id": "ec12813d-797d-4609-8c52-13ca6604c560",
   "metadata": {},
   "outputs": [
    {
     "name": "stdout",
     "output_type": "stream",
     "text": [
      "root\n",
      " |-- raceId: integer (nullable = true)\n",
      " |-- year: integer (nullable = true)\n",
      " |-- round: integer (nullable = true)\n",
      " |-- circuitId: integer (nullable = true)\n",
      " |-- name: string (nullable = true)\n",
      " |-- date: date (nullable = true)\n",
      " |-- time: string (nullable = true)\n",
      " |-- fp1_date: string (nullable = true)\n",
      " |-- fp1_time: string (nullable = true)\n",
      " |-- fp2_date: string (nullable = true)\n",
      " |-- fp2_time: string (nullable = true)\n",
      " |-- fp3_date: string (nullable = true)\n",
      " |-- fp3_time: string (nullable = true)\n",
      " |-- quali_date: string (nullable = true)\n",
      " |-- quali_time: string (nullable = true)\n",
      " |-- sprint_date: string (nullable = true)\n",
      " |-- sprint_time: string (nullable = true)\n",
      "\n"
     ]
    }
   ],
   "source": [
    "races_df = races_df.drop(\"url\")\n",
    "races_df.printSchema()\n",
    "# will likely be able to remove A LOT"
   ]
  },
  {
   "cell_type": "code",
   "execution_count": 452,
   "id": "6e76cc00-6074-4b61-9170-6716a897644b",
   "metadata": {},
   "outputs": [
    {
     "data": {
      "text/plain": [
       "1125"
      ]
     },
     "execution_count": 452,
     "metadata": {},
     "output_type": "execute_result"
    }
   ],
   "source": [
    "races_df.count()"
   ]
  },
  {
   "cell_type": "code",
   "execution_count": 453,
   "id": "4f1d832a-79d6-4b85-9d3c-928cc79cbde6",
   "metadata": {},
   "outputs": [
    {
     "name": "stdout",
     "output_type": "stream",
     "text": [
      "+------+----+-----+---------+--------------------+----------+--------+--------+--------+--------+--------+--------+--------+----------+----------+-----------+-----------+\n",
      "|raceId|year|round|circuitId|                name|      date|    time|fp1_date|fp1_time|fp2_date|fp2_time|fp3_date|fp3_time|quali_date|quali_time|sprint_date|sprint_time|\n",
      "+------+----+-----+---------+--------------------+----------+--------+--------+--------+--------+--------+--------+--------+----------+----------+-----------+-----------+\n",
      "|     1|2009|    1|        1|Australian Grand ...|2009-03-29|06:00:00|      \\N|      \\N|      \\N|      \\N|      \\N|      \\N|        \\N|        \\N|         \\N|         \\N|\n",
      "|     2|2009|    2|        2|Malaysian Grand Prix|2009-04-05|09:00:00|      \\N|      \\N|      \\N|      \\N|      \\N|      \\N|        \\N|        \\N|         \\N|         \\N|\n",
      "|     3|2009|    3|       17|  Chinese Grand Prix|2009-04-19|07:00:00|      \\N|      \\N|      \\N|      \\N|      \\N|      \\N|        \\N|        \\N|         \\N|         \\N|\n",
      "|     4|2009|    4|        3|  Bahrain Grand Prix|2009-04-26|12:00:00|      \\N|      \\N|      \\N|      \\N|      \\N|      \\N|        \\N|        \\N|         \\N|         \\N|\n",
      "|     5|2009|    5|        4|  Spanish Grand Prix|2009-05-10|12:00:00|      \\N|      \\N|      \\N|      \\N|      \\N|      \\N|        \\N|        \\N|         \\N|         \\N|\n",
      "+------+----+-----+---------+--------------------+----------+--------+--------+--------+--------+--------+--------+--------+----------+----------+-----------+-----------+\n",
      "only showing top 5 rows\n",
      "\n"
     ]
    }
   ],
   "source": [
    "races_df.show(5)"
   ]
  },
  {
   "cell_type": "code",
   "execution_count": 454,
   "id": "ea1762d1-bb7a-4156-b225-eb6c43f6fcf4",
   "metadata": {},
   "outputs": [
    {
     "name": "stdout",
     "output_type": "stream",
     "text": [
      "+-------+-----------------+\n",
      "|summary|            round|\n",
      "+-------+-----------------+\n",
      "|  count|             1125|\n",
      "|   mean|8.579555555555556|\n",
      "| stddev| 5.15990994308997|\n",
      "|    min|                1|\n",
      "|    max|               24|\n",
      "+-------+-----------------+\n",
      "\n"
     ]
    }
   ],
   "source": [
    "races_df.describe(\"round\").show() # order of races in a season"
   ]
  },
  {
   "cell_type": "code",
   "execution_count": 455,
   "id": "ffeb16ea-1c48-487b-8029-bbe81e76704f",
   "metadata": {},
   "outputs": [
    {
     "name": "stdout",
     "output_type": "stream",
     "text": [
      "False\n"
     ]
    }
   ],
   "source": [
    "has_nulls(races_df)"
   ]
  },
  {
   "cell_type": "code",
   "execution_count": 456,
   "id": "b13937f3-1f33-42a5-bbd8-d23a11e9805a",
   "metadata": {},
   "outputs": [
    {
     "data": {
      "text/plain": [
       "False"
      ]
     },
     "execution_count": 456,
     "metadata": {},
     "output_type": "execute_result"
    }
   ],
   "source": [
    "has_duplicates(races_df)"
   ]
  },
  {
   "cell_type": "markdown",
   "id": "224cf239-7642-4944-bb5b-adaeacbabcec",
   "metadata": {},
   "source": [
    "We want to create a new parquet file with the modifications we made."
   ]
  },
  {
   "cell_type": "code",
   "execution_count": 457,
   "id": "7a5372b6-c4dd-4279-bc82-db8ceb34a21a",
   "metadata": {},
   "outputs": [],
   "source": [
    "races_df.write.mode('overwrite').parquet(f\"/f1/data/cleaned_races.parquet\")"
   ]
  },
  {
   "cell_type": "markdown",
   "id": "b94e1d8a-7637-46c6-a1fb-2514892eb42a",
   "metadata": {},
   "source": [
    "# Results"
   ]
  },
  {
   "cell_type": "code",
   "execution_count": 458,
   "id": "44d969fb-adaf-48fc-9f44-0f6c58e875a1",
   "metadata": {},
   "outputs": [],
   "source": [
    "results_df = spark.read.parquet(f\"/f1/data/results.parquet\")"
   ]
  },
  {
   "cell_type": "code",
   "execution_count": 459,
   "id": "a25c58e5-1fa0-49ff-88b9-3bcb35370248",
   "metadata": {},
   "outputs": [
    {
     "name": "stdout",
     "output_type": "stream",
     "text": [
      "root\n",
      " |-- resultId: integer (nullable = true)\n",
      " |-- raceId: integer (nullable = true)\n",
      " |-- driverId: integer (nullable = true)\n",
      " |-- constructorId: integer (nullable = true)\n",
      " |-- number: string (nullable = true)\n",
      " |-- grid: integer (nullable = true)\n",
      " |-- position: string (nullable = true)\n",
      " |-- positionText: string (nullable = true)\n",
      " |-- positionOrder: integer (nullable = true)\n",
      " |-- points: double (nullable = true)\n",
      " |-- laps: integer (nullable = true)\n",
      " |-- time: string (nullable = true)\n",
      " |-- milliseconds: string (nullable = true)\n",
      " |-- fastestLap: string (nullable = true)\n",
      " |-- rank: string (nullable = true)\n",
      " |-- fastestLapTime: string (nullable = true)\n",
      " |-- fastestLapSpeed: string (nullable = true)\n",
      " |-- statusId: integer (nullable = true)\n",
      "\n"
     ]
    }
   ],
   "source": [
    "results_df.printSchema()"
   ]
  },
  {
   "cell_type": "code",
   "execution_count": 462,
   "id": "1b645828-a280-430e-a763-bb3704608790",
   "metadata": {},
   "outputs": [
    {
     "data": {
      "text/plain": [
       "26759"
      ]
     },
     "execution_count": 462,
     "metadata": {},
     "output_type": "execute_result"
    }
   ],
   "source": [
    "results_df.count()"
   ]
  },
  {
   "cell_type": "code",
   "execution_count": 463,
   "id": "f6896a45-6c1f-4ea4-a449-819099d58b2b",
   "metadata": {},
   "outputs": [
    {
     "name": "stdout",
     "output_type": "stream",
     "text": [
      "+--------+------+--------+-------------+------+----+--------+------------+-------------+------+----+-----------+------------+----------+----+--------------+---------------+--------+\n",
      "|resultId|raceId|driverId|constructorId|number|grid|position|positionText|positionOrder|points|laps|       time|milliseconds|fastestLap|rank|fastestLapTime|fastestLapSpeed|statusId|\n",
      "+--------+------+--------+-------------+------+----+--------+------------+-------------+------+----+-----------+------------+----------+----+--------------+---------------+--------+\n",
      "|       1|    18|       1|            1|    22|   1|       1|           1|            1|  10.0|  58|1:34:50.616|     5690616|        39|   2|      1:27.452|        218.300|       1|\n",
      "|       2|    18|       2|            2|     3|   5|       2|           2|            2|   8.0|  58|     +5.478|     5696094|        41|   3|      1:27.739|        217.586|       1|\n",
      "|       3|    18|       3|            3|     7|   7|       3|           3|            3|   6.0|  58|     +8.163|     5698779|        41|   5|      1:28.090|        216.719|       1|\n",
      "|       4|    18|       4|            4|     5|  11|       4|           4|            4|   5.0|  58|    +17.181|     5707797|        58|   7|      1:28.603|        215.464|       1|\n",
      "|       5|    18|       5|            1|    23|   3|       5|           5|            5|   4.0|  58|    +18.014|     5708630|        43|   1|      1:27.418|        218.385|       1|\n",
      "+--------+------+--------+-------------+------+----+--------+------------+-------------+------+----+-----------+------------+----------+----+--------------+---------------+--------+\n",
      "only showing top 5 rows\n",
      "\n"
     ]
    }
   ],
   "source": [
    "results_df.show(5)"
   ]
  },
  {
   "cell_type": "code",
   "execution_count": 464,
   "id": "fb8ab2b2-ceef-4ef4-b8b2-2d9fd310a718",
   "metadata": {},
   "outputs": [
    {
     "name": "stdout",
     "output_type": "stream",
     "text": [
      "+-------+------------------+\n",
      "|summary|            points|\n",
      "+-------+------------------+\n",
      "|  count|             26759|\n",
      "|   mean|1.9876321985126502|\n",
      "| stddev| 4.351208910645779|\n",
      "|    min|               0.0|\n",
      "|    max|              50.0|\n",
      "+-------+------------------+\n",
      "\n",
      "+-------+------------------+\n",
      "|summary|     positionOrder|\n",
      "+-------+------------------+\n",
      "|  count|             26759|\n",
      "|   mean|12.794050599798199|\n",
      "| stddev|7.6659506386904255|\n",
      "|    min|                 1|\n",
      "|    max|                39|\n",
      "+-------+------------------+\n",
      "\n"
     ]
    }
   ],
   "source": [
    "results_df.describe(\"points\").show()\n",
    "results_df.describe(\"positionOrder\").show()"
   ]
  },
  {
   "cell_type": "code",
   "execution_count": 476,
   "id": "a5d76bef-9a1a-4a1a-94b5-43f0522b7d0e",
   "metadata": {},
   "outputs": [
    {
     "name": "stdout",
     "output_type": "stream",
     "text": [
      "+------+-----+\n",
      "|points|count|\n",
      "+------+-----+\n",
      "|   0.0|18589|\n",
      "|   0.5|    6|\n",
      "|   1.0| 1066|\n",
      "|  1.33|    3|\n",
      "|   1.5|   17|\n",
      "+------+-----+\n",
      "only showing top 5 rows\n",
      "\n",
      "+------+-----+\n",
      "|points|count|\n",
      "+------+-----+\n",
      "|  50.0|    1|\n",
      "|  36.0|    1|\n",
      "|  30.0|    1|\n",
      "|  26.0|   37|\n",
      "|  25.0|  266|\n",
      "+------+-----+\n",
      "only showing top 5 rows\n",
      "\n"
     ]
    }
   ],
   "source": [
    "from pyspark.sql.functions import count\n",
    "\n",
    "# nowadays first gets 25 points\n",
    "results_df.groupBy(\"points\").agg(count(\"*\").alias(\"count\")).orderBy(\"points\", ascending=True).show(5)\n",
    "results_df.groupBy(\"points\").agg(count(\"*\").alias(\"count\")).orderBy(\"points\", ascending=False).show(5)"
   ]
  },
  {
   "cell_type": "code",
   "execution_count": 474,
   "id": "94ec1d6c-3013-42bb-a0b4-95060fcfd495",
   "metadata": {},
   "outputs": [
    {
     "name": "stdout",
     "output_type": "stream",
     "text": [
      "+--------+-----+\n",
      "|statusId|count|\n",
      "+--------+-----+\n",
      "|       1| 7674|\n",
      "|      11| 4037|\n",
      "|       5| 2026|\n",
      "|      12| 1613|\n",
      "|       3| 1062|\n",
      "+--------+-----+\n",
      "only showing top 5 rows\n",
      "\n"
     ]
    }
   ],
   "source": [
    "results_df.groupBy(\"statusId\").agg(count(\"*\").alias(\"count\")).orderBy(\"count\", ascending=False).show(5)\n"
   ]
  },
  {
   "cell_type": "code",
   "execution_count": 470,
   "id": "2633073c-d8bd-4ffa-8162-b0141297de30",
   "metadata": {},
   "outputs": [
    {
     "name": "stdout",
     "output_type": "stream",
     "text": [
      "False\n"
     ]
    }
   ],
   "source": [
    "has_nulls(results_df)"
   ]
  },
  {
   "cell_type": "code",
   "execution_count": 471,
   "id": "d39b170e-97e8-452b-8683-6ae7c8d60f3c",
   "metadata": {},
   "outputs": [
    {
     "data": {
      "text/plain": [
       "False"
      ]
     },
     "execution_count": 471,
     "metadata": {},
     "output_type": "execute_result"
    }
   ],
   "source": [
    "has_duplicates(results_df)"
   ]
  },
  {
   "cell_type": "markdown",
   "id": "54facd3a-d412-40ae-981d-a9e7904b8531",
   "metadata": {},
   "source": [
    "We want to create a new parquet file with the modifications we made."
   ]
  },
  {
   "cell_type": "code",
   "execution_count": 477,
   "id": "9542bb03-9efb-4d79-8351-98e3cbf03a9d",
   "metadata": {},
   "outputs": [],
   "source": [
    "results_df.write.mode('overwrite').parquet(f\"/f1/data/cleaned_results.parquet\")"
   ]
  },
  {
   "cell_type": "markdown",
   "id": "c2ea11af-f3ef-4ac3-a8c6-e4d88f4033b0",
   "metadata": {},
   "source": [
    "# Season"
   ]
  },
  {
   "cell_type": "code",
   "execution_count": 478,
   "id": "26ec8daa-64bc-4dcd-bc9f-4b8f0b2d9bde",
   "metadata": {},
   "outputs": [],
   "source": [
    "season_df = spark.read.parquet(f\"/f1/data/seasons.parquet\")"
   ]
  },
  {
   "cell_type": "code",
   "execution_count": 479,
   "id": "796ea8d2-d797-4d32-9561-af8f3d0f03d5",
   "metadata": {},
   "outputs": [
    {
     "name": "stdout",
     "output_type": "stream",
     "text": [
      "root\n",
      " |-- year: integer (nullable = true)\n",
      " |-- url: string (nullable = true)\n",
      "\n"
     ]
    }
   ],
   "source": [
    "season_df.printSchema()"
   ]
  },
  {
   "cell_type": "code",
   "execution_count": 481,
   "id": "18ea2f8c-e033-4d69-b287-5e48389c16da",
   "metadata": {},
   "outputs": [
    {
     "name": "stdout",
     "output_type": "stream",
     "text": [
      "root\n",
      " |-- year: integer (nullable = true)\n",
      "\n"
     ]
    }
   ],
   "source": [
    "season_df = season_df.drop(\"url\")\n",
    "season_df.printSchema()"
   ]
  },
  {
   "cell_type": "code",
   "execution_count": 482,
   "id": "4f7fc852-4e3c-4c49-877f-9c174f79aeb8",
   "metadata": {},
   "outputs": [
    {
     "data": {
      "text/plain": [
       "75"
      ]
     },
     "execution_count": 482,
     "metadata": {},
     "output_type": "execute_result"
    }
   ],
   "source": [
    "season_df.count()"
   ]
  },
  {
   "cell_type": "code",
   "execution_count": 483,
   "id": "210e23b7-bff4-4aff-b1f6-65f07b8bf568",
   "metadata": {},
   "outputs": [
    {
     "name": "stdout",
     "output_type": "stream",
     "text": [
      "+----+\n",
      "|year|\n",
      "+----+\n",
      "|2009|\n",
      "|2008|\n",
      "|2007|\n",
      "|2006|\n",
      "|2005|\n",
      "+----+\n",
      "only showing top 5 rows\n",
      "\n"
     ]
    }
   ],
   "source": [
    "season_df.show(5)"
   ]
  },
  {
   "cell_type": "code",
   "execution_count": 484,
   "id": "2a4012c6-6659-419f-bd12-7f5ebdf14e90",
   "metadata": {},
   "outputs": [
    {
     "name": "stdout",
     "output_type": "stream",
     "text": [
      "+-------+-----------------+\n",
      "|summary|             year|\n",
      "+-------+-----------------+\n",
      "|  count|               75|\n",
      "|   mean|           1987.0|\n",
      "| stddev|21.79449471770337|\n",
      "|    min|             1950|\n",
      "|    max|             2024|\n",
      "+-------+-----------------+\n",
      "\n"
     ]
    }
   ],
   "source": [
    "season_df.describe(\"year\").show()"
   ]
  },
  {
   "cell_type": "code",
   "execution_count": 485,
   "id": "faaab93c-df24-4a23-a673-1b6bf93f9d01",
   "metadata": {},
   "outputs": [
    {
     "name": "stdout",
     "output_type": "stream",
     "text": [
      "+----+-----+\n",
      "|year|count|\n",
      "+----+-----+\n",
      "|1959|    1|\n",
      "|1990|    1|\n",
      "|1975|    1|\n",
      "|1977|    1|\n",
      "|2003|    1|\n",
      "+----+-----+\n",
      "only showing top 5 rows\n",
      "\n"
     ]
    }
   ],
   "source": [
    "from pyspark.sql.functions import count\n",
    "\n",
    "season_df.groupBy(\"year\").agg(count(\"*\").alias(\"count\")).orderBy(\"count\", ascending=False).show(5)"
   ]
  },
  {
   "cell_type": "code",
   "execution_count": 486,
   "id": "d570b414-b1f2-4fcb-a2ee-1fac7904aab1",
   "metadata": {},
   "outputs": [
    {
     "name": "stdout",
     "output_type": "stream",
     "text": [
      "False\n"
     ]
    }
   ],
   "source": [
    "has_nulls(season_df)"
   ]
  },
  {
   "cell_type": "code",
   "execution_count": 487,
   "id": "8c9b0282-90b8-4c73-ad79-0a25153efca3",
   "metadata": {},
   "outputs": [
    {
     "data": {
      "text/plain": [
       "False"
      ]
     },
     "execution_count": 487,
     "metadata": {},
     "output_type": "execute_result"
    }
   ],
   "source": [
    "has_duplicates(season_df)"
   ]
  },
  {
   "cell_type": "markdown",
   "id": "c0eb88b9-7886-4af6-b162-d8ea956a8237",
   "metadata": {},
   "source": [
    "We want to create a new parquet file with the modifications we made."
   ]
  },
  {
   "cell_type": "code",
   "execution_count": 488,
   "id": "2886b05c-0023-4794-9404-d7df26bee895",
   "metadata": {},
   "outputs": [],
   "source": [
    "season_df.write.mode('overwrite').parquet(f\"/f1/data/cleaned_seasons.parquet\")"
   ]
  },
  {
   "cell_type": "markdown",
   "id": "e910b6ec-ae61-40be-bae3-001cc46950eb",
   "metadata": {},
   "source": [
    "# Sprint Results"
   ]
  },
  {
   "cell_type": "code",
   "execution_count": 489,
   "id": "56886dee-0e94-4456-8a28-2379716704b5",
   "metadata": {},
   "outputs": [],
   "source": [
    "sprint_results_df = spark.read.parquet(f\"/f1/data/sprint_results.parquet\")"
   ]
  },
  {
   "cell_type": "code",
   "execution_count": 490,
   "id": "8d3019fe-63f6-4e2f-9717-345989b901d4",
   "metadata": {},
   "outputs": [
    {
     "name": "stdout",
     "output_type": "stream",
     "text": [
      "root\n",
      " |-- resultId: integer (nullable = true)\n",
      " |-- raceId: integer (nullable = true)\n",
      " |-- driverId: integer (nullable = true)\n",
      " |-- constructorId: integer (nullable = true)\n",
      " |-- number: integer (nullable = true)\n",
      " |-- grid: integer (nullable = true)\n",
      " |-- position: string (nullable = true)\n",
      " |-- positionText: string (nullable = true)\n",
      " |-- positionOrder: integer (nullable = true)\n",
      " |-- points: integer (nullable = true)\n",
      " |-- laps: integer (nullable = true)\n",
      " |-- time: string (nullable = true)\n",
      " |-- milliseconds: string (nullable = true)\n",
      " |-- fastestLap: string (nullable = true)\n",
      " |-- fastestLapTime: string (nullable = true)\n",
      " |-- statusId: integer (nullable = true)\n",
      "\n"
     ]
    }
   ],
   "source": [
    "sprint_results_df.printSchema()"
   ]
  },
  {
   "cell_type": "code",
   "execution_count": 491,
   "id": "150106cc-f52f-426d-a340-4422f212fb2d",
   "metadata": {},
   "outputs": [
    {
     "name": "stdout",
     "output_type": "stream",
     "text": [
      "root\n",
      " |-- resultId: integer (nullable = true)\n",
      " |-- raceId: integer (nullable = true)\n",
      " |-- driverId: integer (nullable = true)\n",
      " |-- constructorId: integer (nullable = true)\n",
      " |-- grid: integer (nullable = true)\n",
      " |-- positionOrder: integer (nullable = true)\n",
      " |-- points: integer (nullable = true)\n",
      " |-- laps: integer (nullable = true)\n",
      " |-- time: string (nullable = true)\n",
      " |-- milliseconds: string (nullable = true)\n",
      " |-- fastestLap: string (nullable = true)\n",
      " |-- fastestLapTime: string (nullable = true)\n",
      " |-- statusId: integer (nullable = true)\n",
      "\n"
     ]
    }
   ],
   "source": [
    "sprint_results_df = sprint_results_df.drop(\"number\", \"positionText\", \"position\")\n",
    "sprint_results_df.printSchema()"
   ]
  },
  {
   "cell_type": "code",
   "execution_count": 492,
   "id": "da30e1a3-8503-43f6-b07f-e15a8e06a2aa",
   "metadata": {},
   "outputs": [
    {
     "data": {
      "text/plain": [
       "360"
      ]
     },
     "execution_count": 492,
     "metadata": {},
     "output_type": "execute_result"
    }
   ],
   "source": [
    "sprint_results_df.count()"
   ]
  },
  {
   "cell_type": "code",
   "execution_count": 493,
   "id": "255bdec9-8c5d-4f71-bd9f-e60e348a200f",
   "metadata": {},
   "outputs": [
    {
     "name": "stdout",
     "output_type": "stream",
     "text": [
      "+--------+------+--------+-------------+----+-------------+------+----+---------+------------+----------+--------------+--------+\n",
      "|resultId|raceId|driverId|constructorId|grid|positionOrder|points|laps|     time|milliseconds|fastestLap|fastestLapTime|statusId|\n",
      "+--------+------+--------+-------------+----+-------------+------+----+---------+------------+----------+--------------+--------+\n",
      "|       1|  1061|     830|            9|   2|            1|     3|  17|25:38.426|     1538426|        14|      1:30.013|       1|\n",
      "|       2|  1061|       1|          131|   1|            2|     2|  17|   +1.430|     1539856|        17|      1:29.937|       1|\n",
      "|       3|  1061|     822|          131|   3|            3|     1|  17|   +7.502|     1545928|        17|      1:29.958|       1|\n",
      "|       4|  1061|     844|            6|   4|            4|     0|  17|  +11.278|     1549704|        16|      1:30.163|       1|\n",
      "|       5|  1061|     846|            1|   6|            5|     0|  17|  +24.111|     1562537|        16|      1:30.566|       1|\n",
      "+--------+------+--------+-------------+----+-------------+------+----+---------+------------+----------+--------------+--------+\n",
      "only showing top 5 rows\n",
      "\n"
     ]
    }
   ],
   "source": [
    "sprint_results_df.show(5)"
   ]
  },
  {
   "cell_type": "code",
   "execution_count": 494,
   "id": "c4c63e73-d5b1-48a8-8c65-be376f7d291b",
   "metadata": {},
   "outputs": [
    {
     "name": "stdout",
     "output_type": "stream",
     "text": [
      "+-------+-----------------+\n",
      "|summary|    positionOrder|\n",
      "+-------+-----------------+\n",
      "|  count|              360|\n",
      "|   mean|             10.5|\n",
      "| stddev|5.774306744917618|\n",
      "|    min|                1|\n",
      "|    max|               20|\n",
      "+-------+-----------------+\n",
      "\n"
     ]
    }
   ],
   "source": [
    "sprint_results_df.describe(\"positionOrder\").show()"
   ]
  },
  {
   "cell_type": "code",
   "execution_count": 495,
   "id": "423396fc-0870-45d3-8981-cf90abaaba87",
   "metadata": {},
   "outputs": [
    {
     "name": "stdout",
     "output_type": "stream",
     "text": [
      "+------+-----+\n",
      "|raceId|count|\n",
      "+------+-----+\n",
      "|  1084|   20|\n",
      "|  1139|   20|\n",
      "|  1143|   20|\n",
      "|  1077|   20|\n",
      "|  1065|   20|\n",
      "+------+-----+\n",
      "only showing top 5 rows\n",
      "\n"
     ]
    }
   ],
   "source": [
    "from pyspark.sql.functions import count\n",
    "\n",
    "sprint_results_df.groupBy(\"raceId\").agg(count(\"*\").alias(\"count\")).orderBy(\"count\", ascending=False).show(5)"
   ]
  },
  {
   "cell_type": "code",
   "execution_count": 496,
   "id": "a4aabb45-8793-4ba5-a6ae-4ab38e8f1249",
   "metadata": {},
   "outputs": [
    {
     "name": "stdout",
     "output_type": "stream",
     "text": [
      "False\n"
     ]
    }
   ],
   "source": [
    "has_nulls(sprint_results_df)"
   ]
  },
  {
   "cell_type": "code",
   "execution_count": 497,
   "id": "9cd911a1-8442-4dfa-905c-bb661771dd12",
   "metadata": {},
   "outputs": [
    {
     "data": {
      "text/plain": [
       "False"
      ]
     },
     "execution_count": 497,
     "metadata": {},
     "output_type": "execute_result"
    }
   ],
   "source": [
    "has_duplicates(sprint_results_df)"
   ]
  },
  {
   "cell_type": "markdown",
   "id": "87ec145a-bd93-487a-8a56-c15428457b0a",
   "metadata": {},
   "source": [
    "We want to create a new parquet file with the modifications we made."
   ]
  },
  {
   "cell_type": "code",
   "execution_count": 498,
   "id": "714a8d2e-f540-4491-97b3-a8e488e93253",
   "metadata": {},
   "outputs": [],
   "source": [
    "sprint_results_df.write.mode('overwrite').parquet(f\"/f1/data/cleaned_sprint_results.parquet\")"
   ]
  },
  {
   "cell_type": "markdown",
   "id": "d8264cb9-b955-4e9c-9332-4d4eb067dc8d",
   "metadata": {},
   "source": [
    "# Status"
   ]
  },
  {
   "cell_type": "code",
   "execution_count": 499,
   "id": "fa2d9c6f-494f-430f-8cde-e4e694f32a91",
   "metadata": {},
   "outputs": [],
   "source": [
    "status_df = spark.read.parquet(f\"/f1/data/status.parquet\")"
   ]
  },
  {
   "cell_type": "code",
   "execution_count": 500,
   "id": "b00b12a6-d651-4e50-bc76-e378691fc3c6",
   "metadata": {},
   "outputs": [
    {
     "name": "stdout",
     "output_type": "stream",
     "text": [
      "root\n",
      " |-- statusId: integer (nullable = true)\n",
      " |-- status: string (nullable = true)\n",
      "\n"
     ]
    }
   ],
   "source": [
    "status_df.printSchema()"
   ]
  },
  {
   "cell_type": "code",
   "execution_count": 501,
   "id": "0139958e-d3de-42b5-b3b4-e75841e4fdf6",
   "metadata": {},
   "outputs": [
    {
     "data": {
      "text/plain": [
       "139"
      ]
     },
     "execution_count": 501,
     "metadata": {},
     "output_type": "execute_result"
    }
   ],
   "source": [
    "status_df.count()"
   ]
  },
  {
   "cell_type": "code",
   "execution_count": 502,
   "id": "fbc84535-f791-4df6-8e32-62feee700d1f",
   "metadata": {},
   "outputs": [
    {
     "name": "stdout",
     "output_type": "stream",
     "text": [
      "+--------+------------+\n",
      "|statusId|      status|\n",
      "+--------+------------+\n",
      "|       1|    Finished|\n",
      "|       2|Disqualified|\n",
      "|       3|    Accident|\n",
      "|       4|   Collision|\n",
      "|       5|      Engine|\n",
      "+--------+------------+\n",
      "only showing top 5 rows\n",
      "\n"
     ]
    }
   ],
   "source": [
    "status_df.show(5)"
   ]
  },
  {
   "cell_type": "code",
   "execution_count": 503,
   "id": "d2aa7c58-fb73-4db3-9199-f94d23493678",
   "metadata": {},
   "outputs": [
    {
     "name": "stdout",
     "output_type": "stream",
     "text": [
      "False\n"
     ]
    }
   ],
   "source": [
    "has_nulls(status_df)"
   ]
  },
  {
   "cell_type": "code",
   "execution_count": 504,
   "id": "631e88ef-71da-4eef-aadd-43718ca0643b",
   "metadata": {},
   "outputs": [
    {
     "data": {
      "text/plain": [
       "False"
      ]
     },
     "execution_count": 504,
     "metadata": {},
     "output_type": "execute_result"
    }
   ],
   "source": [
    "has_duplicates(status_df)"
   ]
  },
  {
   "cell_type": "markdown",
   "id": "b6e10fc1-a047-417f-b090-44482d7a5c4e",
   "metadata": {},
   "source": [
    "We want to create a new parquet file with the modifications we made."
   ]
  },
  {
   "cell_type": "code",
   "execution_count": 505,
   "id": "833c1315-e662-47ea-a3b4-cf420a43a216",
   "metadata": {},
   "outputs": [],
   "source": [
    "sprint_results_df.write.mode('overwrite').parquet(f\"/f1/data/cleaned_sprint_results.parquet\")"
   ]
  },
  {
   "cell_type": "code",
   "execution_count": null,
   "id": "74dbc341-bbb9-4abc-9910-d84edcdc1503",
   "metadata": {},
   "outputs": [],
   "source": []
  }
 ],
 "metadata": {
  "kernelspec": {
   "display_name": "Python 3 (ipykernel)",
   "language": "python",
   "name": "python3"
  },
  "language_info": {
   "codemirror_mode": {
    "name": "ipython",
    "version": 3
   },
   "file_extension": ".py",
   "mimetype": "text/x-python",
   "name": "python",
   "nbconvert_exporter": "python",
   "pygments_lexer": "ipython3",
   "version": "3.11.2"
  }
 },
 "nbformat": 4,
 "nbformat_minor": 5
}
